{
 "cells": [
  {
   "cell_type": "markdown",
   "metadata": {},
   "source": [
    "# The Uninsured in America"
   ]
  },
  {
   "cell_type": "markdown",
   "metadata": {},
   "source": [
    "## Introduction"
   ]
  },
  {
   "cell_type": "markdown",
   "metadata": {},
   "source": [
    "Aren Carpenter - DS Cohort 062220\n",
    "\n",
    "I will be creating a linear regression model as an explanatory tool to explore the factors that impact the rate of uninsured in the United States. People without health insurance can receive a lower standard of care due to their inability to pay for necessary operations or even routine checkups. Previous research has identified rural counties as harder hit by this phenomenon. \n",
    "\n",
    "My model will utilize community health indicators from the CDC and demographic/financial data from the Census Bureau for each county in the United States. With this data, I hope to provide comment on how to lower the rate of uninsured."
   ]
  },
  {
   "cell_type": "markdown",
   "metadata": {},
   "source": [
    "### Libraries to Import"
   ]
  },
  {
   "cell_type": "code",
   "execution_count": 1,
   "metadata": {},
   "outputs": [],
   "source": [
    "import pandas as pd\n",
    "import numpy as np\n",
    "import seaborn as sns\n",
    "import matplotlib.pyplot as plt\n",
    "import statsmodels.stats as sms\n",
    "import scipy.stats\n",
    "\n",
    "from sklearn.dummy import DummyRegressor\n",
    "from sklearn import linear_model\n",
    "from sklearn import metrics\n",
    "from sklearn.model_selection import train_test_split\n",
    "from sklearn.preprocessing import StandardScaler, PolynomialFeatures\n",
    "from sklearn.feature_selection import RFECV\n",
    "\n",
    "import statsmodels.api as sm\n",
    "from statsmodels.formula.api import ols\n",
    "\n",
    "pd.set_option('display.max_columns', 50)\n",
    "%matplotlib inline"
   ]
  },
  {
   "cell_type": "markdown",
   "metadata": {},
   "source": [
    "### Load In Four Datasets"
   ]
  },
  {
   "cell_type": "code",
   "execution_count": 2,
   "metadata": {},
   "outputs": [],
   "source": [
    "df = pd.read_csv('/Users/arencarpenter/Desktop/chsi_dataset/RISKFACTORSANDACCESSTOCARE.csv', na_values=['-1111.1', '-2222', '-2222.2'])\n",
    "df_rural_urban = pd.read_csv('/Users/arencarpenter/Desktop/PctUrbanRural_County.csv')\n",
    "df_income = pd.read_csv('/Users/arencarpenter/Desktop/2015 Median Income by County.csv')\n",
    "df_demo = pd.read_csv('/Users/arencarpenter/Desktop/demographics.csv')"
   ]
  },
  {
   "cell_type": "code",
   "execution_count": 3,
   "metadata": {
    "scrolled": true
   },
   "outputs": [
    {
     "data": {
      "text/html": [
       "<div>\n",
       "<style scoped>\n",
       "    .dataframe tbody tr th:only-of-type {\n",
       "        vertical-align: middle;\n",
       "    }\n",
       "\n",
       "    .dataframe tbody tr th {\n",
       "        vertical-align: top;\n",
       "    }\n",
       "\n",
       "    .dataframe thead th {\n",
       "        text-align: right;\n",
       "    }\n",
       "</style>\n",
       "<table border=\"1\" class=\"dataframe\">\n",
       "  <thead>\n",
       "    <tr style=\"text-align: right;\">\n",
       "      <th></th>\n",
       "      <th>State</th>\n",
       "      <th>County</th>\n",
       "      <th>Median household income</th>\n",
       "    </tr>\n",
       "  </thead>\n",
       "  <tbody>\n",
       "    <tr>\n",
       "      <th>0</th>\n",
       "      <td>Alabama</td>\n",
       "      <td>Autauga County</td>\n",
       "      <td>51281.0</td>\n",
       "    </tr>\n",
       "    <tr>\n",
       "      <th>1</th>\n",
       "      <td>Alabama</td>\n",
       "      <td>Baldwin County</td>\n",
       "      <td>50254.0</td>\n",
       "    </tr>\n",
       "    <tr>\n",
       "      <th>2</th>\n",
       "      <td>Alabama</td>\n",
       "      <td>Barbour County</td>\n",
       "      <td>32964.0</td>\n",
       "    </tr>\n",
       "    <tr>\n",
       "      <th>3</th>\n",
       "      <td>Alabama</td>\n",
       "      <td>Bibb County</td>\n",
       "      <td>38678.0</td>\n",
       "    </tr>\n",
       "    <tr>\n",
       "      <th>4</th>\n",
       "      <td>Alabama</td>\n",
       "      <td>Blount County</td>\n",
       "      <td>45813.0</td>\n",
       "    </tr>\n",
       "    <tr>\n",
       "      <th>...</th>\n",
       "      <td>...</td>\n",
       "      <td>...</td>\n",
       "      <td>...</td>\n",
       "    </tr>\n",
       "    <tr>\n",
       "      <th>3136</th>\n",
       "      <td>Wyoming</td>\n",
       "      <td>Sublette County</td>\n",
       "      <td>81772.0</td>\n",
       "    </tr>\n",
       "    <tr>\n",
       "      <th>3137</th>\n",
       "      <td>Wyoming</td>\n",
       "      <td>Sweetwater County</td>\n",
       "      <td>69022.0</td>\n",
       "    </tr>\n",
       "    <tr>\n",
       "      <th>3138</th>\n",
       "      <td>Wyoming</td>\n",
       "      <td>Teton County</td>\n",
       "      <td>75325.0</td>\n",
       "    </tr>\n",
       "    <tr>\n",
       "      <th>3139</th>\n",
       "      <td>Wyoming</td>\n",
       "      <td>Uinta County</td>\n",
       "      <td>56569.0</td>\n",
       "    </tr>\n",
       "    <tr>\n",
       "      <th>3140</th>\n",
       "      <td>Wyoming</td>\n",
       "      <td>Washakie County</td>\n",
       "      <td>47652.0</td>\n",
       "    </tr>\n",
       "  </tbody>\n",
       "</table>\n",
       "<p>3141 rows × 3 columns</p>\n",
       "</div>"
      ],
      "text/plain": [
       "        State             County  Median household income\n",
       "0     Alabama     Autauga County                  51281.0\n",
       "1     Alabama     Baldwin County                  50254.0\n",
       "2     Alabama     Barbour County                  32964.0\n",
       "3     Alabama        Bibb County                  38678.0\n",
       "4     Alabama      Blount County                  45813.0\n",
       "...       ...                ...                      ...\n",
       "3136  Wyoming    Sublette County                  81772.0\n",
       "3137  Wyoming  Sweetwater County                  69022.0\n",
       "3138  Wyoming       Teton County                  75325.0\n",
       "3139  Wyoming       Uinta County                  56569.0\n",
       "3140  Wyoming    Washakie County                  47652.0\n",
       "\n",
       "[3141 rows x 3 columns]"
      ]
     },
     "execution_count": 3,
     "metadata": {},
     "output_type": "execute_result"
    }
   ],
   "source": [
    "df_income = df_income.iloc[:3141] # Select only the 3,141 counties in the US, not territories.\n",
    "df_income"
   ]
  },
  {
   "cell_type": "markdown",
   "metadata": {},
   "source": [
    "## Processing"
   ]
  },
  {
   "cell_type": "markdown",
   "metadata": {},
   "source": [
    "Primary Care Physician Rate and Dentist Rate are reported per 100k population."
   ]
  },
  {
   "cell_type": "code",
   "execution_count": 4,
   "metadata": {},
   "outputs": [],
   "source": [
    "df.Community_Health_Center_Ind = df.Community_Health_Center_Ind - 1  # These were reported as 1 and 2, not 0 and 1. \n",
    "df.HPSA_Ind = df.HPSA_Ind - 1"
   ]
  },
  {
   "cell_type": "code",
   "execution_count": 5,
   "metadata": {},
   "outputs": [],
   "source": [
    "df = pd.concat([df, df_rural_urban, df_income, df_demo], axis=1) # Concatenate our datasets."
   ]
  },
  {
   "cell_type": "markdown",
   "metadata": {},
   "source": [
    "The community health indicators dataset included confidence intervals as separate columns for each of the values. So dropped those as they don't provide additional information."
   ]
  },
  {
   "cell_type": "code",
   "execution_count": 6,
   "metadata": {},
   "outputs": [],
   "source": [
    "df.drop(columns=['CI_Min_No_Exercise', 'CI_Max_No_Exercise', 'CI_Min_Fruit_Veg', 'CI_Max_Fruit_Veg', 'CI_Min_Obesity', \n",
    "               'CI_Max_Obesity', 'CI_Min_High_Blood_Pres', 'CI_Max_High_Blood_Pres', 'CI_Min_Smoker', 'CI_Max_Smoker',\n",
    "               'CI_Min_Diabetes', 'CI_Max_Diabetes', 'STATE', 'COUNTY', 'STATENAME', 'COUNTYNAME', 'POPDEN_URBAN',\n",
    "               'POPDEN_RURAL', 'County_FIPS_Code', 'State', 'County', 'county', 'state', 'pctprivatecoveragealone'], \n",
    "        inplace=True)"
   ]
  },
  {
   "cell_type": "code",
   "execution_count": 7,
   "metadata": {},
   "outputs": [],
   "source": [
    "df = df[df.State_FIPS_Code.notnull()] # Remove US territories from the list."
   ]
  },
  {
   "cell_type": "code",
   "execution_count": 8,
   "metadata": {
    "scrolled": true
   },
   "outputs": [
    {
     "data": {
      "text/plain": [
       "(3141, 49)"
      ]
     },
     "execution_count": 8,
     "metadata": {},
     "output_type": "execute_result"
    }
   ],
   "source": [
    "df.shape # We now have only the 3141 US counties."
   ]
  },
  {
   "cell_type": "code",
   "execution_count": 9,
   "metadata": {},
   "outputs": [
    {
     "data": {
      "text/html": [
       "<div>\n",
       "<style scoped>\n",
       "    .dataframe tbody tr th:only-of-type {\n",
       "        vertical-align: middle;\n",
       "    }\n",
       "\n",
       "    .dataframe tbody tr th {\n",
       "        vertical-align: top;\n",
       "    }\n",
       "\n",
       "    .dataframe thead th {\n",
       "        text-align: right;\n",
       "    }\n",
       "</style>\n",
       "<table border=\"1\" class=\"dataframe\">\n",
       "  <thead>\n",
       "    <tr style=\"text-align: right;\">\n",
       "      <th></th>\n",
       "      <th>State_FIPS_Code</th>\n",
       "      <th>CHSI_County_Name</th>\n",
       "      <th>CHSI_State_Name</th>\n",
       "      <th>CHSI_State_Abbr</th>\n",
       "      <th>Strata_ID_Number</th>\n",
       "      <th>No_Exercise</th>\n",
       "      <th>Few_Fruit_Veg</th>\n",
       "      <th>Obesity</th>\n",
       "      <th>High_Blood_Pres</th>\n",
       "      <th>Smoker</th>\n",
       "      <th>Diabetes</th>\n",
       "      <th>Uninsured</th>\n",
       "      <th>Elderly_Medicare</th>\n",
       "      <th>Disabled_Medicare</th>\n",
       "      <th>Prim_Care_Phys_Rate</th>\n",
       "      <th>Dentist_Rate</th>\n",
       "      <th>Community_Health_Center_Ind</th>\n",
       "      <th>HPSA_Ind</th>\n",
       "      <th>POP_COU</th>\n",
       "      <th>POP_URBAN</th>\n",
       "      <th>POPPCT_URBAN</th>\n",
       "      <th>AREA_URBAN</th>\n",
       "      <th>AREAPCT_URBAN</th>\n",
       "      <th>POP_RURAL</th>\n",
       "      <th>POPPCT_RURAL</th>\n",
       "      <th>AREA_RURAL</th>\n",
       "      <th>AREAPCT_RURAL</th>\n",
       "      <th>Median household income</th>\n",
       "      <th>medincome</th>\n",
       "      <th>povertypercent</th>\n",
       "      <th>medianagemale</th>\n",
       "      <th>medianagefemale</th>\n",
       "      <th>percentmarried</th>\n",
       "      <th>no_hs_24</th>\n",
       "      <th>hs_24</th>\n",
       "      <th>college_24</th>\n",
       "      <th>hs_25</th>\n",
       "      <th>college_25</th>\n",
       "      <th>pctemployed</th>\n",
       "      <th>pctunemployed</th>\n",
       "      <th>pctprivatecoverage</th>\n",
       "      <th>pctempprivcoverage</th>\n",
       "      <th>pctpubliccoverage</th>\n",
       "      <th>pctpubliccoveragealone</th>\n",
       "      <th>pctwhite</th>\n",
       "      <th>pctblack</th>\n",
       "      <th>pctasian</th>\n",
       "      <th>pctotherrace</th>\n",
       "      <th>pctmarriedhouseholds</th>\n",
       "    </tr>\n",
       "  </thead>\n",
       "  <tbody>\n",
       "    <tr>\n",
       "      <th>0</th>\n",
       "      <td>1.0</td>\n",
       "      <td>Autauga</td>\n",
       "      <td>Alabama</td>\n",
       "      <td>AL</td>\n",
       "      <td>29.0</td>\n",
       "      <td>27.8</td>\n",
       "      <td>78.6</td>\n",
       "      <td>24.5</td>\n",
       "      <td>29.1</td>\n",
       "      <td>26.6</td>\n",
       "      <td>14.2</td>\n",
       "      <td>5690.0</td>\n",
       "      <td>4762.0</td>\n",
       "      <td>1209.0</td>\n",
       "      <td>45.3</td>\n",
       "      <td>22.6</td>\n",
       "      <td>0.0</td>\n",
       "      <td>1.0</td>\n",
       "      <td>54571</td>\n",
       "      <td>31650</td>\n",
       "      <td>58.00</td>\n",
       "      <td>50882539</td>\n",
       "      <td>3.30</td>\n",
       "      <td>22921</td>\n",
       "      <td>42.00</td>\n",
       "      <td>1.488700e+09</td>\n",
       "      <td>96.70</td>\n",
       "      <td>51281.0</td>\n",
       "      <td>54366.0</td>\n",
       "      <td>13.1</td>\n",
       "      <td>36.7</td>\n",
       "      <td>38.4</td>\n",
       "      <td>54.8</td>\n",
       "      <td>19.1</td>\n",
       "      <td>38.8</td>\n",
       "      <td>5.4</td>\n",
       "      <td>33.5</td>\n",
       "      <td>13.5</td>\n",
       "      <td>NaN</td>\n",
       "      <td>7.6</td>\n",
       "      <td>73.1</td>\n",
       "      <td>46.1</td>\n",
       "      <td>30.0</td>\n",
       "      <td>14.3</td>\n",
       "      <td>77.399902</td>\n",
       "      <td>18.679488</td>\n",
       "      <td>0.967023</td>\n",
       "      <td>0.925373</td>\n",
       "      <td>56.069818</td>\n",
       "    </tr>\n",
       "    <tr>\n",
       "      <th>1</th>\n",
       "      <td>1.0</td>\n",
       "      <td>Baldwin</td>\n",
       "      <td>Alabama</td>\n",
       "      <td>AL</td>\n",
       "      <td>16.0</td>\n",
       "      <td>27.2</td>\n",
       "      <td>76.2</td>\n",
       "      <td>23.6</td>\n",
       "      <td>30.5</td>\n",
       "      <td>24.6</td>\n",
       "      <td>7.2</td>\n",
       "      <td>19798.0</td>\n",
       "      <td>22635.0</td>\n",
       "      <td>3839.0</td>\n",
       "      <td>67.0</td>\n",
       "      <td>30.8</td>\n",
       "      <td>0.0</td>\n",
       "      <td>1.0</td>\n",
       "      <td>182265</td>\n",
       "      <td>105205</td>\n",
       "      <td>57.72</td>\n",
       "      <td>275001368</td>\n",
       "      <td>6.68</td>\n",
       "      <td>77060</td>\n",
       "      <td>42.28</td>\n",
       "      <td>3.842520e+09</td>\n",
       "      <td>93.32</td>\n",
       "      <td>50254.0</td>\n",
       "      <td>49626.0</td>\n",
       "      <td>13.0</td>\n",
       "      <td>40.9</td>\n",
       "      <td>43.3</td>\n",
       "      <td>53.8</td>\n",
       "      <td>17.7</td>\n",
       "      <td>33.4</td>\n",
       "      <td>8.6</td>\n",
       "      <td>28.8</td>\n",
       "      <td>19.3</td>\n",
       "      <td>55.0</td>\n",
       "      <td>7.5</td>\n",
       "      <td>67.6</td>\n",
       "      <td>42.6</td>\n",
       "      <td>33.7</td>\n",
       "      <td>17.5</td>\n",
       "      <td>86.431496</td>\n",
       "      <td>9.601734</td>\n",
       "      <td>0.669841</td>\n",
       "      <td>0.958380</td>\n",
       "      <td>53.935010</td>\n",
       "    </tr>\n",
       "    <tr>\n",
       "      <th>2</th>\n",
       "      <td>1.0</td>\n",
       "      <td>Barbour</td>\n",
       "      <td>Alabama</td>\n",
       "      <td>AL</td>\n",
       "      <td>51.0</td>\n",
       "      <td>NaN</td>\n",
       "      <td>NaN</td>\n",
       "      <td>25.6</td>\n",
       "      <td>NaN</td>\n",
       "      <td>17.7</td>\n",
       "      <td>6.6</td>\n",
       "      <td>5126.0</td>\n",
       "      <td>3288.0</td>\n",
       "      <td>1092.0</td>\n",
       "      <td>45.8</td>\n",
       "      <td>24.6</td>\n",
       "      <td>0.0</td>\n",
       "      <td>1.0</td>\n",
       "      <td>27457</td>\n",
       "      <td>8844</td>\n",
       "      <td>32.21</td>\n",
       "      <td>17447656</td>\n",
       "      <td>0.76</td>\n",
       "      <td>18613</td>\n",
       "      <td>67.79</td>\n",
       "      <td>2.274371e+09</td>\n",
       "      <td>99.24</td>\n",
       "      <td>32964.0</td>\n",
       "      <td>34971.0</td>\n",
       "      <td>25.4</td>\n",
       "      <td>36.6</td>\n",
       "      <td>41.9</td>\n",
       "      <td>41.5</td>\n",
       "      <td>25.1</td>\n",
       "      <td>43.4</td>\n",
       "      <td>1.8</td>\n",
       "      <td>34.5</td>\n",
       "      <td>7.5</td>\n",
       "      <td>39.5</td>\n",
       "      <td>17.6</td>\n",
       "      <td>52.7</td>\n",
       "      <td>30.3</td>\n",
       "      <td>46.6</td>\n",
       "      <td>26.5</td>\n",
       "      <td>47.363731</td>\n",
       "      <td>46.765929</td>\n",
       "      <td>0.905985</td>\n",
       "      <td>3.445715</td>\n",
       "      <td>43.276946</td>\n",
       "    </tr>\n",
       "    <tr>\n",
       "      <th>3</th>\n",
       "      <td>1.0</td>\n",
       "      <td>Bibb</td>\n",
       "      <td>Alabama</td>\n",
       "      <td>AL</td>\n",
       "      <td>42.0</td>\n",
       "      <td>NaN</td>\n",
       "      <td>86.6</td>\n",
       "      <td>NaN</td>\n",
       "      <td>NaN</td>\n",
       "      <td>NaN</td>\n",
       "      <td>13.1</td>\n",
       "      <td>3315.0</td>\n",
       "      <td>2390.0</td>\n",
       "      <td>974.0</td>\n",
       "      <td>41.8</td>\n",
       "      <td>18.6</td>\n",
       "      <td>0.0</td>\n",
       "      <td>0.0</td>\n",
       "      <td>22915</td>\n",
       "      <td>7252</td>\n",
       "      <td>31.65</td>\n",
       "      <td>18903236</td>\n",
       "      <td>1.17</td>\n",
       "      <td>15663</td>\n",
       "      <td>68.35</td>\n",
       "      <td>1.593578e+09</td>\n",
       "      <td>98.83</td>\n",
       "      <td>38678.0</td>\n",
       "      <td>39546.0</td>\n",
       "      <td>18.1</td>\n",
       "      <td>37.8</td>\n",
       "      <td>40.4</td>\n",
       "      <td>49.0</td>\n",
       "      <td>25.3</td>\n",
       "      <td>33.1</td>\n",
       "      <td>1.2</td>\n",
       "      <td>42.1</td>\n",
       "      <td>6.1</td>\n",
       "      <td>45.2</td>\n",
       "      <td>8.3</td>\n",
       "      <td>64.8</td>\n",
       "      <td>43.8</td>\n",
       "      <td>39.4</td>\n",
       "      <td>22.7</td>\n",
       "      <td>76.654574</td>\n",
       "      <td>21.438683</td>\n",
       "      <td>0.092904</td>\n",
       "      <td>0.030968</td>\n",
       "      <td>57.335990</td>\n",
       "    </tr>\n",
       "    <tr>\n",
       "      <th>4</th>\n",
       "      <td>1.0</td>\n",
       "      <td>Blount</td>\n",
       "      <td>Alabama</td>\n",
       "      <td>AL</td>\n",
       "      <td>28.0</td>\n",
       "      <td>33.5</td>\n",
       "      <td>74.6</td>\n",
       "      <td>24.2</td>\n",
       "      <td>NaN</td>\n",
       "      <td>23.6</td>\n",
       "      <td>8.4</td>\n",
       "      <td>8131.0</td>\n",
       "      <td>5019.0</td>\n",
       "      <td>1300.0</td>\n",
       "      <td>16.2</td>\n",
       "      <td>10.8</td>\n",
       "      <td>1.0</td>\n",
       "      <td>0.0</td>\n",
       "      <td>57322</td>\n",
       "      <td>5760</td>\n",
       "      <td>10.05</td>\n",
       "      <td>10874700</td>\n",
       "      <td>0.65</td>\n",
       "      <td>51562</td>\n",
       "      <td>89.95</td>\n",
       "      <td>1.659087e+09</td>\n",
       "      <td>99.35</td>\n",
       "      <td>45813.0</td>\n",
       "      <td>45567.0</td>\n",
       "      <td>17.5</td>\n",
       "      <td>39.6</td>\n",
       "      <td>41.9</td>\n",
       "      <td>59.0</td>\n",
       "      <td>19.4</td>\n",
       "      <td>33.3</td>\n",
       "      <td>3.0</td>\n",
       "      <td>33.4</td>\n",
       "      <td>8.6</td>\n",
       "      <td>48.4</td>\n",
       "      <td>7.7</td>\n",
       "      <td>66.2</td>\n",
       "      <td>44.7</td>\n",
       "      <td>35.9</td>\n",
       "      <td>19.0</td>\n",
       "      <td>95.097903</td>\n",
       "      <td>1.531797</td>\n",
       "      <td>0.143823</td>\n",
       "      <td>0.961705</td>\n",
       "      <td>59.439854</td>\n",
       "    </tr>\n",
       "    <tr>\n",
       "      <th>5</th>\n",
       "      <td>1.0</td>\n",
       "      <td>Bullock</td>\n",
       "      <td>Alabama</td>\n",
       "      <td>AL</td>\n",
       "      <td>75.0</td>\n",
       "      <td>NaN</td>\n",
       "      <td>NaN</td>\n",
       "      <td>NaN</td>\n",
       "      <td>NaN</td>\n",
       "      <td>NaN</td>\n",
       "      <td>NaN</td>\n",
       "      <td>2295.0</td>\n",
       "      <td>1433.0</td>\n",
       "      <td>504.0</td>\n",
       "      <td>54.3</td>\n",
       "      <td>18.1</td>\n",
       "      <td>0.0</td>\n",
       "      <td>0.0</td>\n",
       "      <td>10914</td>\n",
       "      <td>5307</td>\n",
       "      <td>48.63</td>\n",
       "      <td>12675709</td>\n",
       "      <td>0.79</td>\n",
       "      <td>5607</td>\n",
       "      <td>51.37</td>\n",
       "      <td>1.600381e+09</td>\n",
       "      <td>99.21</td>\n",
       "      <td>31938.0</td>\n",
       "      <td>26580.0</td>\n",
       "      <td>35.1</td>\n",
       "      <td>37.9</td>\n",
       "      <td>40.6</td>\n",
       "      <td>28.9</td>\n",
       "      <td>8.2</td>\n",
       "      <td>65.5</td>\n",
       "      <td>0.0</td>\n",
       "      <td>33.3</td>\n",
       "      <td>6.5</td>\n",
       "      <td>44.7</td>\n",
       "      <td>18.0</td>\n",
       "      <td>48.1</td>\n",
       "      <td>32.4</td>\n",
       "      <td>44.3</td>\n",
       "      <td>28.9</td>\n",
       "      <td>26.643566</td>\n",
       "      <td>70.706125</td>\n",
       "      <td>0.206031</td>\n",
       "      <td>0.000000</td>\n",
       "      <td>31.794733</td>\n",
       "    </tr>\n",
       "    <tr>\n",
       "      <th>6</th>\n",
       "      <td>1.0</td>\n",
       "      <td>Butler</td>\n",
       "      <td>Alabama</td>\n",
       "      <td>AL</td>\n",
       "      <td>76.0</td>\n",
       "      <td>24.5</td>\n",
       "      <td>NaN</td>\n",
       "      <td>22.0</td>\n",
       "      <td>NaN</td>\n",
       "      <td>27.3</td>\n",
       "      <td>9.5</td>\n",
       "      <td>4055.0</td>\n",
       "      <td>3150.0</td>\n",
       "      <td>952.0</td>\n",
       "      <td>43.3</td>\n",
       "      <td>19.3</td>\n",
       "      <td>0.0</td>\n",
       "      <td>1.0</td>\n",
       "      <td>20947</td>\n",
       "      <td>6026</td>\n",
       "      <td>28.77</td>\n",
       "      <td>10503875</td>\n",
       "      <td>0.52</td>\n",
       "      <td>14921</td>\n",
       "      <td>71.23</td>\n",
       "      <td>2.001473e+09</td>\n",
       "      <td>99.48</td>\n",
       "      <td>32229.0</td>\n",
       "      <td>41123.0</td>\n",
       "      <td>20.5</td>\n",
       "      <td>37.5</td>\n",
       "      <td>40.6</td>\n",
       "      <td>48.2</td>\n",
       "      <td>13.9</td>\n",
       "      <td>28.3</td>\n",
       "      <td>4.8</td>\n",
       "      <td>31.8</td>\n",
       "      <td>10.7</td>\n",
       "      <td>50.8</td>\n",
       "      <td>12.3</td>\n",
       "      <td>65.0</td>\n",
       "      <td>39.3</td>\n",
       "      <td>39.7</td>\n",
       "      <td>20.2</td>\n",
       "      <td>75.110589</td>\n",
       "      <td>20.484706</td>\n",
       "      <td>0.857280</td>\n",
       "      <td>0.996159</td>\n",
       "      <td>47.191832</td>\n",
       "    </tr>\n",
       "    <tr>\n",
       "      <th>7</th>\n",
       "      <td>1.0</td>\n",
       "      <td>Calhoun</td>\n",
       "      <td>Alabama</td>\n",
       "      <td>AL</td>\n",
       "      <td>6.0</td>\n",
       "      <td>29.2</td>\n",
       "      <td>81.9</td>\n",
       "      <td>27.0</td>\n",
       "      <td>33.2</td>\n",
       "      <td>25.5</td>\n",
       "      <td>11.2</td>\n",
       "      <td>16456.0</td>\n",
       "      <td>16440.0</td>\n",
       "      <td>5301.0</td>\n",
       "      <td>75.8</td>\n",
       "      <td>41.9</td>\n",
       "      <td>0.0</td>\n",
       "      <td>1.0</td>\n",
       "      <td>118572</td>\n",
       "      <td>78617</td>\n",
       "      <td>66.30</td>\n",
       "      <td>210145581</td>\n",
       "      <td>13.39</td>\n",
       "      <td>39955</td>\n",
       "      <td>33.70</td>\n",
       "      <td>1.359044e+09</td>\n",
       "      <td>86.61</td>\n",
       "      <td>41703.0</td>\n",
       "      <td>34116.0</td>\n",
       "      <td>21.3</td>\n",
       "      <td>41.5</td>\n",
       "      <td>43.9</td>\n",
       "      <td>43.9</td>\n",
       "      <td>14.2</td>\n",
       "      <td>42.6</td>\n",
       "      <td>3.9</td>\n",
       "      <td>38.4</td>\n",
       "      <td>7.6</td>\n",
       "      <td>49.8</td>\n",
       "      <td>8.9</td>\n",
       "      <td>57.7</td>\n",
       "      <td>38.6</td>\n",
       "      <td>42.2</td>\n",
       "      <td>24.1</td>\n",
       "      <td>57.666011</td>\n",
       "      <td>40.312216</td>\n",
       "      <td>0.762933</td>\n",
       "      <td>0.035212</td>\n",
       "      <td>40.552695</td>\n",
       "    </tr>\n",
       "    <tr>\n",
       "      <th>8</th>\n",
       "      <td>1.0</td>\n",
       "      <td>Chambers</td>\n",
       "      <td>Alabama</td>\n",
       "      <td>AL</td>\n",
       "      <td>50.0</td>\n",
       "      <td>34.7</td>\n",
       "      <td>84.6</td>\n",
       "      <td>NaN</td>\n",
       "      <td>NaN</td>\n",
       "      <td>11.7</td>\n",
       "      <td>17.1</td>\n",
       "      <td>5533.0</td>\n",
       "      <td>5473.0</td>\n",
       "      <td>1497.0</td>\n",
       "      <td>53.6</td>\n",
       "      <td>22.6</td>\n",
       "      <td>0.0</td>\n",
       "      <td>1.0</td>\n",
       "      <td>34215</td>\n",
       "      <td>17399</td>\n",
       "      <td>50.85</td>\n",
       "      <td>54790707</td>\n",
       "      <td>3.55</td>\n",
       "      <td>16816</td>\n",
       "      <td>49.15</td>\n",
       "      <td>1.490219e+09</td>\n",
       "      <td>96.45</td>\n",
       "      <td>34177.0</td>\n",
       "      <td>38013.0</td>\n",
       "      <td>18.6</td>\n",
       "      <td>44.6</td>\n",
       "      <td>46.2</td>\n",
       "      <td>62.1</td>\n",
       "      <td>15.8</td>\n",
       "      <td>38.3</td>\n",
       "      <td>5.5</td>\n",
       "      <td>36.4</td>\n",
       "      <td>7.9</td>\n",
       "      <td>47.8</td>\n",
       "      <td>7.9</td>\n",
       "      <td>66.3</td>\n",
       "      <td>39.9</td>\n",
       "      <td>43.3</td>\n",
       "      <td>20.3</td>\n",
       "      <td>92.921409</td>\n",
       "      <td>4.925408</td>\n",
       "      <td>0.338357</td>\n",
       "      <td>0.065365</td>\n",
       "      <td>57.173258</td>\n",
       "    </tr>\n",
       "    <tr>\n",
       "      <th>9</th>\n",
       "      <td>1.0</td>\n",
       "      <td>Cherokee</td>\n",
       "      <td>Alabama</td>\n",
       "      <td>AL</td>\n",
       "      <td>64.0</td>\n",
       "      <td>NaN</td>\n",
       "      <td>NaN</td>\n",
       "      <td>NaN</td>\n",
       "      <td>NaN</td>\n",
       "      <td>23.6</td>\n",
       "      <td>13.3</td>\n",
       "      <td>3583.0</td>\n",
       "      <td>3086.0</td>\n",
       "      <td>854.0</td>\n",
       "      <td>28.5</td>\n",
       "      <td>12.2</td>\n",
       "      <td>1.0</td>\n",
       "      <td>0.0</td>\n",
       "      <td>25989</td>\n",
       "      <td>3707</td>\n",
       "      <td>14.26</td>\n",
       "      <td>26419773</td>\n",
       "      <td>1.84</td>\n",
       "      <td>22282</td>\n",
       "      <td>85.74</td>\n",
       "      <td>1.407656e+09</td>\n",
       "      <td>98.16</td>\n",
       "      <td>36296.0</td>\n",
       "      <td>41450.0</td>\n",
       "      <td>18.1</td>\n",
       "      <td>37.6</td>\n",
       "      <td>39.6</td>\n",
       "      <td>54.4</td>\n",
       "      <td>13.5</td>\n",
       "      <td>41.9</td>\n",
       "      <td>3.6</td>\n",
       "      <td>39.2</td>\n",
       "      <td>9.1</td>\n",
       "      <td>52.1</td>\n",
       "      <td>9.1</td>\n",
       "      <td>60.8</td>\n",
       "      <td>41.3</td>\n",
       "      <td>35.1</td>\n",
       "      <td>20.4</td>\n",
       "      <td>84.045734</td>\n",
       "      <td>10.333417</td>\n",
       "      <td>0.287546</td>\n",
       "      <td>4.119218</td>\n",
       "      <td>54.862351</td>\n",
       "    </tr>\n",
       "    <tr>\n",
       "      <th>10</th>\n",
       "      <td>1.0</td>\n",
       "      <td>Chilton</td>\n",
       "      <td>Alabama</td>\n",
       "      <td>AL</td>\n",
       "      <td>32.0</td>\n",
       "      <td>30.3</td>\n",
       "      <td>82.8</td>\n",
       "      <td>31.2</td>\n",
       "      <td>26.5</td>\n",
       "      <td>30.0</td>\n",
       "      <td>6.0</td>\n",
       "      <td>6130.0</td>\n",
       "      <td>4527.0</td>\n",
       "      <td>1307.0</td>\n",
       "      <td>31.1</td>\n",
       "      <td>19.2</td>\n",
       "      <td>0.0</td>\n",
       "      <td>1.0</td>\n",
       "      <td>43643</td>\n",
       "      <td>5785</td>\n",
       "      <td>13.26</td>\n",
       "      <td>17302027</td>\n",
       "      <td>0.96</td>\n",
       "      <td>37858</td>\n",
       "      <td>86.74</td>\n",
       "      <td>1.777182e+09</td>\n",
       "      <td>99.04</td>\n",
       "      <td>41627.0</td>\n",
       "      <td>35049.0</td>\n",
       "      <td>25.0</td>\n",
       "      <td>43.8</td>\n",
       "      <td>47.1</td>\n",
       "      <td>48.3</td>\n",
       "      <td>17.4</td>\n",
       "      <td>43.1</td>\n",
       "      <td>2.8</td>\n",
       "      <td>36.8</td>\n",
       "      <td>7.4</td>\n",
       "      <td>40.4</td>\n",
       "      <td>13.6</td>\n",
       "      <td>56.0</td>\n",
       "      <td>34.3</td>\n",
       "      <td>44.8</td>\n",
       "      <td>24.2</td>\n",
       "      <td>55.893990</td>\n",
       "      <td>43.307204</td>\n",
       "      <td>0.000000</td>\n",
       "      <td>0.014931</td>\n",
       "      <td>45.201794</td>\n",
       "    </tr>\n",
       "    <tr>\n",
       "      <th>11</th>\n",
       "      <td>1.0</td>\n",
       "      <td>Choctaw</td>\n",
       "      <td>Alabama</td>\n",
       "      <td>AL</td>\n",
       "      <td>66.0</td>\n",
       "      <td>NaN</td>\n",
       "      <td>NaN</td>\n",
       "      <td>NaN</td>\n",
       "      <td>NaN</td>\n",
       "      <td>17.1</td>\n",
       "      <td>13.5</td>\n",
       "      <td>2677.0</td>\n",
       "      <td>2148.0</td>\n",
       "      <td>800.0</td>\n",
       "      <td>33.8</td>\n",
       "      <td>20.3</td>\n",
       "      <td>0.0</td>\n",
       "      <td>0.0</td>\n",
       "      <td>13859</td>\n",
       "      <td>0</td>\n",
       "      <td>0.00</td>\n",
       "      <td>0</td>\n",
       "      <td>0.00</td>\n",
       "      <td>13859</td>\n",
       "      <td>100.00</td>\n",
       "      <td>2.365955e+09</td>\n",
       "      <td>100.00</td>\n",
       "      <td>33536.0</td>\n",
       "      <td>36620.0</td>\n",
       "      <td>24.9</td>\n",
       "      <td>40.0</td>\n",
       "      <td>42.3</td>\n",
       "      <td>45.5</td>\n",
       "      <td>23.5</td>\n",
       "      <td>55.9</td>\n",
       "      <td>1.1</td>\n",
       "      <td>43.9</td>\n",
       "      <td>8.4</td>\n",
       "      <td>40.5</td>\n",
       "      <td>19.4</td>\n",
       "      <td>56.0</td>\n",
       "      <td>36.7</td>\n",
       "      <td>43.2</td>\n",
       "      <td>24.3</td>\n",
       "      <td>53.558037</td>\n",
       "      <td>45.257280</td>\n",
       "      <td>0.358995</td>\n",
       "      <td>0.095732</td>\n",
       "      <td>46.622324</td>\n",
       "    </tr>\n",
       "    <tr>\n",
       "      <th>12</th>\n",
       "      <td>1.0</td>\n",
       "      <td>Clarke</td>\n",
       "      <td>Alabama</td>\n",
       "      <td>AL</td>\n",
       "      <td>51.0</td>\n",
       "      <td>31.5</td>\n",
       "      <td>NaN</td>\n",
       "      <td>NaN</td>\n",
       "      <td>NaN</td>\n",
       "      <td>NaN</td>\n",
       "      <td>15.8</td>\n",
       "      <td>4593.0</td>\n",
       "      <td>3850.0</td>\n",
       "      <td>1150.0</td>\n",
       "      <td>55.0</td>\n",
       "      <td>29.3</td>\n",
       "      <td>1.0</td>\n",
       "      <td>1.0</td>\n",
       "      <td>25833</td>\n",
       "      <td>6205</td>\n",
       "      <td>24.02</td>\n",
       "      <td>18272532</td>\n",
       "      <td>0.57</td>\n",
       "      <td>19628</td>\n",
       "      <td>75.98</td>\n",
       "      <td>3.189337e+09</td>\n",
       "      <td>99.43</td>\n",
       "      <td>32011.0</td>\n",
       "      <td>35940.0</td>\n",
       "      <td>19.5</td>\n",
       "      <td>43.2</td>\n",
       "      <td>45.1</td>\n",
       "      <td>52.3</td>\n",
       "      <td>18.9</td>\n",
       "      <td>40.0</td>\n",
       "      <td>3.4</td>\n",
       "      <td>36.3</td>\n",
       "      <td>5.8</td>\n",
       "      <td>47.4</td>\n",
       "      <td>9.4</td>\n",
       "      <td>60.3</td>\n",
       "      <td>34.2</td>\n",
       "      <td>42.5</td>\n",
       "      <td>21.6</td>\n",
       "      <td>81.738938</td>\n",
       "      <td>14.500997</td>\n",
       "      <td>0.000000</td>\n",
       "      <td>1.418335</td>\n",
       "      <td>50.802731</td>\n",
       "    </tr>\n",
       "    <tr>\n",
       "      <th>13</th>\n",
       "      <td>1.0</td>\n",
       "      <td>Clay</td>\n",
       "      <td>Alabama</td>\n",
       "      <td>AL</td>\n",
       "      <td>63.0</td>\n",
       "      <td>NaN</td>\n",
       "      <td>NaN</td>\n",
       "      <td>NaN</td>\n",
       "      <td>NaN</td>\n",
       "      <td>23.9</td>\n",
       "      <td>12.2</td>\n",
       "      <td>2320.0</td>\n",
       "      <td>2198.0</td>\n",
       "      <td>610.0</td>\n",
       "      <td>35.8</td>\n",
       "      <td>14.3</td>\n",
       "      <td>1.0</td>\n",
       "      <td>0.0</td>\n",
       "      <td>13932</td>\n",
       "      <td>0</td>\n",
       "      <td>0.00</td>\n",
       "      <td>0</td>\n",
       "      <td>0.00</td>\n",
       "      <td>13932</td>\n",
       "      <td>100.00</td>\n",
       "      <td>1.564252e+09</td>\n",
       "      <td>100.00</td>\n",
       "      <td>35327.0</td>\n",
       "      <td>40418.0</td>\n",
       "      <td>17.0</td>\n",
       "      <td>41.0</td>\n",
       "      <td>41.5</td>\n",
       "      <td>56.7</td>\n",
       "      <td>18.7</td>\n",
       "      <td>42.1</td>\n",
       "      <td>6.9</td>\n",
       "      <td>38.3</td>\n",
       "      <td>6.9</td>\n",
       "      <td>51.1</td>\n",
       "      <td>8.3</td>\n",
       "      <td>59.9</td>\n",
       "      <td>38.8</td>\n",
       "      <td>40.4</td>\n",
       "      <td>22.0</td>\n",
       "      <td>93.974137</td>\n",
       "      <td>2.946274</td>\n",
       "      <td>0.353286</td>\n",
       "      <td>0.566591</td>\n",
       "      <td>55.869114</td>\n",
       "    </tr>\n",
       "    <tr>\n",
       "      <th>14</th>\n",
       "      <td>1.0</td>\n",
       "      <td>Cleburne</td>\n",
       "      <td>Alabama</td>\n",
       "      <td>AL</td>\n",
       "      <td>41.0</td>\n",
       "      <td>NaN</td>\n",
       "      <td>NaN</td>\n",
       "      <td>NaN</td>\n",
       "      <td>NaN</td>\n",
       "      <td>NaN</td>\n",
       "      <td>10.5</td>\n",
       "      <td>2107.0</td>\n",
       "      <td>1852.0</td>\n",
       "      <td>646.0</td>\n",
       "      <td>0.0</td>\n",
       "      <td>6.9</td>\n",
       "      <td>1.0</td>\n",
       "      <td>0.0</td>\n",
       "      <td>14972</td>\n",
       "      <td>0</td>\n",
       "      <td>0.00</td>\n",
       "      <td>0</td>\n",
       "      <td>0.00</td>\n",
       "      <td>14972</td>\n",
       "      <td>100.00</td>\n",
       "      <td>1.450653e+09</td>\n",
       "      <td>100.00</td>\n",
       "      <td>38056.0</td>\n",
       "      <td>46931.0</td>\n",
       "      <td>16.8</td>\n",
       "      <td>37.6</td>\n",
       "      <td>39.7</td>\n",
       "      <td>51.0</td>\n",
       "      <td>19.9</td>\n",
       "      <td>29.3</td>\n",
       "      <td>8.2</td>\n",
       "      <td>29.5</td>\n",
       "      <td>15.2</td>\n",
       "      <td>52.1</td>\n",
       "      <td>7.1</td>\n",
       "      <td>68.1</td>\n",
       "      <td>33.4</td>\n",
       "      <td>36.3</td>\n",
       "      <td>18.0</td>\n",
       "      <td>76.776590</td>\n",
       "      <td>17.351230</td>\n",
       "      <td>1.232214</td>\n",
       "      <td>0.782171</td>\n",
       "      <td>49.885177</td>\n",
       "    </tr>\n",
       "  </tbody>\n",
       "</table>\n",
       "</div>"
      ],
      "text/plain": [
       "    State_FIPS_Code CHSI_County_Name CHSI_State_Name CHSI_State_Abbr  \\\n",
       "0               1.0          Autauga         Alabama              AL   \n",
       "1               1.0          Baldwin         Alabama              AL   \n",
       "2               1.0          Barbour         Alabama              AL   \n",
       "3               1.0             Bibb         Alabama              AL   \n",
       "4               1.0           Blount         Alabama              AL   \n",
       "5               1.0          Bullock         Alabama              AL   \n",
       "6               1.0           Butler         Alabama              AL   \n",
       "7               1.0          Calhoun         Alabama              AL   \n",
       "8               1.0         Chambers         Alabama              AL   \n",
       "9               1.0         Cherokee         Alabama              AL   \n",
       "10              1.0          Chilton         Alabama              AL   \n",
       "11              1.0          Choctaw         Alabama              AL   \n",
       "12              1.0           Clarke         Alabama              AL   \n",
       "13              1.0             Clay         Alabama              AL   \n",
       "14              1.0         Cleburne         Alabama              AL   \n",
       "\n",
       "    Strata_ID_Number  No_Exercise  Few_Fruit_Veg  Obesity  High_Blood_Pres  \\\n",
       "0               29.0         27.8           78.6     24.5             29.1   \n",
       "1               16.0         27.2           76.2     23.6             30.5   \n",
       "2               51.0          NaN            NaN     25.6              NaN   \n",
       "3               42.0          NaN           86.6      NaN              NaN   \n",
       "4               28.0         33.5           74.6     24.2              NaN   \n",
       "5               75.0          NaN            NaN      NaN              NaN   \n",
       "6               76.0         24.5            NaN     22.0              NaN   \n",
       "7                6.0         29.2           81.9     27.0             33.2   \n",
       "8               50.0         34.7           84.6      NaN              NaN   \n",
       "9               64.0          NaN            NaN      NaN              NaN   \n",
       "10              32.0         30.3           82.8     31.2             26.5   \n",
       "11              66.0          NaN            NaN      NaN              NaN   \n",
       "12              51.0         31.5            NaN      NaN              NaN   \n",
       "13              63.0          NaN            NaN      NaN              NaN   \n",
       "14              41.0          NaN            NaN      NaN              NaN   \n",
       "\n",
       "    Smoker  Diabetes  Uninsured  Elderly_Medicare  Disabled_Medicare  \\\n",
       "0     26.6      14.2     5690.0            4762.0             1209.0   \n",
       "1     24.6       7.2    19798.0           22635.0             3839.0   \n",
       "2     17.7       6.6     5126.0            3288.0             1092.0   \n",
       "3      NaN      13.1     3315.0            2390.0              974.0   \n",
       "4     23.6       8.4     8131.0            5019.0             1300.0   \n",
       "5      NaN       NaN     2295.0            1433.0              504.0   \n",
       "6     27.3       9.5     4055.0            3150.0              952.0   \n",
       "7     25.5      11.2    16456.0           16440.0             5301.0   \n",
       "8     11.7      17.1     5533.0            5473.0             1497.0   \n",
       "9     23.6      13.3     3583.0            3086.0              854.0   \n",
       "10    30.0       6.0     6130.0            4527.0             1307.0   \n",
       "11    17.1      13.5     2677.0            2148.0              800.0   \n",
       "12     NaN      15.8     4593.0            3850.0             1150.0   \n",
       "13    23.9      12.2     2320.0            2198.0              610.0   \n",
       "14     NaN      10.5     2107.0            1852.0              646.0   \n",
       "\n",
       "    Prim_Care_Phys_Rate  Dentist_Rate  Community_Health_Center_Ind  HPSA_Ind  \\\n",
       "0                  45.3          22.6                          0.0       1.0   \n",
       "1                  67.0          30.8                          0.0       1.0   \n",
       "2                  45.8          24.6                          0.0       1.0   \n",
       "3                  41.8          18.6                          0.0       0.0   \n",
       "4                  16.2          10.8                          1.0       0.0   \n",
       "5                  54.3          18.1                          0.0       0.0   \n",
       "6                  43.3          19.3                          0.0       1.0   \n",
       "7                  75.8          41.9                          0.0       1.0   \n",
       "8                  53.6          22.6                          0.0       1.0   \n",
       "9                  28.5          12.2                          1.0       0.0   \n",
       "10                 31.1          19.2                          0.0       1.0   \n",
       "11                 33.8          20.3                          0.0       0.0   \n",
       "12                 55.0          29.3                          1.0       1.0   \n",
       "13                 35.8          14.3                          1.0       0.0   \n",
       "14                  0.0           6.9                          1.0       0.0   \n",
       "\n",
       "    POP_COU  POP_URBAN  POPPCT_URBAN  AREA_URBAN  AREAPCT_URBAN  POP_RURAL  \\\n",
       "0     54571      31650         58.00    50882539           3.30      22921   \n",
       "1    182265     105205         57.72   275001368           6.68      77060   \n",
       "2     27457       8844         32.21    17447656           0.76      18613   \n",
       "3     22915       7252         31.65    18903236           1.17      15663   \n",
       "4     57322       5760         10.05    10874700           0.65      51562   \n",
       "5     10914       5307         48.63    12675709           0.79       5607   \n",
       "6     20947       6026         28.77    10503875           0.52      14921   \n",
       "7    118572      78617         66.30   210145581          13.39      39955   \n",
       "8     34215      17399         50.85    54790707           3.55      16816   \n",
       "9     25989       3707         14.26    26419773           1.84      22282   \n",
       "10    43643       5785         13.26    17302027           0.96      37858   \n",
       "11    13859          0          0.00           0           0.00      13859   \n",
       "12    25833       6205         24.02    18272532           0.57      19628   \n",
       "13    13932          0          0.00           0           0.00      13932   \n",
       "14    14972          0          0.00           0           0.00      14972   \n",
       "\n",
       "    POPPCT_RURAL    AREA_RURAL  AREAPCT_RURAL  Median household income  \\\n",
       "0          42.00  1.488700e+09          96.70                  51281.0   \n",
       "1          42.28  3.842520e+09          93.32                  50254.0   \n",
       "2          67.79  2.274371e+09          99.24                  32964.0   \n",
       "3          68.35  1.593578e+09          98.83                  38678.0   \n",
       "4          89.95  1.659087e+09          99.35                  45813.0   \n",
       "5          51.37  1.600381e+09          99.21                  31938.0   \n",
       "6          71.23  2.001473e+09          99.48                  32229.0   \n",
       "7          33.70  1.359044e+09          86.61                  41703.0   \n",
       "8          49.15  1.490219e+09          96.45                  34177.0   \n",
       "9          85.74  1.407656e+09          98.16                  36296.0   \n",
       "10         86.74  1.777182e+09          99.04                  41627.0   \n",
       "11        100.00  2.365955e+09         100.00                  33536.0   \n",
       "12         75.98  3.189337e+09          99.43                  32011.0   \n",
       "13        100.00  1.564252e+09         100.00                  35327.0   \n",
       "14        100.00  1.450653e+09         100.00                  38056.0   \n",
       "\n",
       "    medincome  povertypercent  medianagemale  medianagefemale  percentmarried  \\\n",
       "0     54366.0            13.1           36.7             38.4            54.8   \n",
       "1     49626.0            13.0           40.9             43.3            53.8   \n",
       "2     34971.0            25.4           36.6             41.9            41.5   \n",
       "3     39546.0            18.1           37.8             40.4            49.0   \n",
       "4     45567.0            17.5           39.6             41.9            59.0   \n",
       "5     26580.0            35.1           37.9             40.6            28.9   \n",
       "6     41123.0            20.5           37.5             40.6            48.2   \n",
       "7     34116.0            21.3           41.5             43.9            43.9   \n",
       "8     38013.0            18.6           44.6             46.2            62.1   \n",
       "9     41450.0            18.1           37.6             39.6            54.4   \n",
       "10    35049.0            25.0           43.8             47.1            48.3   \n",
       "11    36620.0            24.9           40.0             42.3            45.5   \n",
       "12    35940.0            19.5           43.2             45.1            52.3   \n",
       "13    40418.0            17.0           41.0             41.5            56.7   \n",
       "14    46931.0            16.8           37.6             39.7            51.0   \n",
       "\n",
       "    no_hs_24  hs_24  college_24  hs_25  college_25  pctemployed  \\\n",
       "0       19.1   38.8         5.4   33.5        13.5          NaN   \n",
       "1       17.7   33.4         8.6   28.8        19.3         55.0   \n",
       "2       25.1   43.4         1.8   34.5         7.5         39.5   \n",
       "3       25.3   33.1         1.2   42.1         6.1         45.2   \n",
       "4       19.4   33.3         3.0   33.4         8.6         48.4   \n",
       "5        8.2   65.5         0.0   33.3         6.5         44.7   \n",
       "6       13.9   28.3         4.8   31.8        10.7         50.8   \n",
       "7       14.2   42.6         3.9   38.4         7.6         49.8   \n",
       "8       15.8   38.3         5.5   36.4         7.9         47.8   \n",
       "9       13.5   41.9         3.6   39.2         9.1         52.1   \n",
       "10      17.4   43.1         2.8   36.8         7.4         40.4   \n",
       "11      23.5   55.9         1.1   43.9         8.4         40.5   \n",
       "12      18.9   40.0         3.4   36.3         5.8         47.4   \n",
       "13      18.7   42.1         6.9   38.3         6.9         51.1   \n",
       "14      19.9   29.3         8.2   29.5        15.2         52.1   \n",
       "\n",
       "    pctunemployed  pctprivatecoverage  pctempprivcoverage  pctpubliccoverage  \\\n",
       "0             7.6                73.1                46.1               30.0   \n",
       "1             7.5                67.6                42.6               33.7   \n",
       "2            17.6                52.7                30.3               46.6   \n",
       "3             8.3                64.8                43.8               39.4   \n",
       "4             7.7                66.2                44.7               35.9   \n",
       "5            18.0                48.1                32.4               44.3   \n",
       "6            12.3                65.0                39.3               39.7   \n",
       "7             8.9                57.7                38.6               42.2   \n",
       "8             7.9                66.3                39.9               43.3   \n",
       "9             9.1                60.8                41.3               35.1   \n",
       "10           13.6                56.0                34.3               44.8   \n",
       "11           19.4                56.0                36.7               43.2   \n",
       "12            9.4                60.3                34.2               42.5   \n",
       "13            8.3                59.9                38.8               40.4   \n",
       "14            7.1                68.1                33.4               36.3   \n",
       "\n",
       "    pctpubliccoveragealone   pctwhite   pctblack  pctasian  pctotherrace  \\\n",
       "0                     14.3  77.399902  18.679488  0.967023      0.925373   \n",
       "1                     17.5  86.431496   9.601734  0.669841      0.958380   \n",
       "2                     26.5  47.363731  46.765929  0.905985      3.445715   \n",
       "3                     22.7  76.654574  21.438683  0.092904      0.030968   \n",
       "4                     19.0  95.097903   1.531797  0.143823      0.961705   \n",
       "5                     28.9  26.643566  70.706125  0.206031      0.000000   \n",
       "6                     20.2  75.110589  20.484706  0.857280      0.996159   \n",
       "7                     24.1  57.666011  40.312216  0.762933      0.035212   \n",
       "8                     20.3  92.921409   4.925408  0.338357      0.065365   \n",
       "9                     20.4  84.045734  10.333417  0.287546      4.119218   \n",
       "10                    24.2  55.893990  43.307204  0.000000      0.014931   \n",
       "11                    24.3  53.558037  45.257280  0.358995      0.095732   \n",
       "12                    21.6  81.738938  14.500997  0.000000      1.418335   \n",
       "13                    22.0  93.974137   2.946274  0.353286      0.566591   \n",
       "14                    18.0  76.776590  17.351230  1.232214      0.782171   \n",
       "\n",
       "    pctmarriedhouseholds  \n",
       "0              56.069818  \n",
       "1              53.935010  \n",
       "2              43.276946  \n",
       "3              57.335990  \n",
       "4              59.439854  \n",
       "5              31.794733  \n",
       "6              47.191832  \n",
       "7              40.552695  \n",
       "8              57.173258  \n",
       "9              54.862351  \n",
       "10             45.201794  \n",
       "11             46.622324  \n",
       "12             50.802731  \n",
       "13             55.869114  \n",
       "14             49.885177  "
      ]
     },
     "execution_count": 9,
     "metadata": {},
     "output_type": "execute_result"
    }
   ],
   "source": [
    "df.head(15) # Let's look at all of our columns"
   ]
  },
  {
   "cell_type": "markdown",
   "metadata": {},
   "source": [
    "### Imputing Missing Community Indicators\n",
    "\n",
    "Using the state average for each missing community health indicator. I looked at histograms for the CHSI values and they were normally distributed, so I used the mean to impute."
   ]
  },
  {
   "cell_type": "code",
   "execution_count": 10,
   "metadata": {},
   "outputs": [],
   "source": [
    "def impute_state_avg(column, state):\n",
    "    state_avg = df[df.CHSI_State_Name == state][column].mean()\n",
    "    #print(state + \" State Avg for \" + column + \": \" + str(state_avg))\n",
    "\n",
    "    df[column] = df[column].fillna(state_avg)"
   ]
  },
  {
   "cell_type": "code",
   "execution_count": 11,
   "metadata": {},
   "outputs": [],
   "source": [
    "states = df.CHSI_State_Name.unique()\n",
    "columns = ['No_Exercise','Few_Fruit_Veg', 'Obesity', 'High_Blood_Pres', 'Smoker', 'Diabetes', 'Elderly_Medicare', \n",
    "           'Disabled_Medicare', 'Dentist_Rate']"
   ]
  },
  {
   "cell_type": "code",
   "execution_count": 12,
   "metadata": {},
   "outputs": [],
   "source": [
    "def impute():\n",
    "    for column in columns:\n",
    "        for state in states:\n",
    "            impute_state_avg(column, state)"
   ]
  },
  {
   "cell_type": "code",
   "execution_count": 13,
   "metadata": {},
   "outputs": [
    {
     "name": "stdout",
     "output_type": "stream",
     "text": [
      "Alabama State Avg for No_Exercise: 29.794999999999995\n",
      "Alaska State Avg for No_Exercise: 29.794999999999987\n",
      "Arizona State Avg for No_Exercise: 25.652999999999995\n",
      "Arkansas State Avg for No_Exercise: 31.0486\n",
      "California State Avg for No_Exercise: 24.272413793103446\n",
      "Colorado State Avg for No_Exercise: 24.02242187500001\n",
      "Connecticut State Avg for No_Exercise: 20.9375\n",
      "Delaware State Avg for No_Exercise: 25.933333333333334\n",
      "District of Columbia State Avg for No_Exercise: 22.2\n",
      "Florida State Avg for No_Exercise: 27.122835820895528\n",
      "Georgia State Avg for No_Exercise: 28.849905660377388\n",
      "Hawaii State Avg for No_Exercise: 21.238999999999997\n",
      "Idaho State Avg for No_Exercise: 22.9475\n",
      "Illinois State Avg for No_Exercise: 27.300196078431398\n",
      "Indiana State Avg for No_Exercise: 27.686304347826102\n",
      "Iowa State Avg for No_Exercise: 25.966868686868693\n",
      "Kansas State Avg for No_Exercise: 28.326809523809548\n",
      "Kentucky State Avg for No_Exercise: 34.45500000000002\n",
      "Louisiana State Avg for No_Exercise: 34.683671875000016\n",
      "Maine State Avg for No_Exercise: 23.724999999999998\n",
      "Maryland State Avg for No_Exercise: 24.941666666666666\n",
      "Massachusetts State Avg for No_Exercise: 22.299642857142853\n",
      "Michigan State Avg for No_Exercise: 24.35301204819278\n",
      "Minnesota State Avg for No_Exercise: 21.580057471264386\n",
      "Mississippi State Avg for No_Exercise: 32.262560975609766\n",
      "Missouri State Avg for No_Exercise: 29.166478260869578\n",
      "Montana State Avg for No_Exercise: 25.545267857142857\n",
      "Nebraska State Avg for No_Exercise: 26.898494623655917\n",
      "Nevada State Avg for No_Exercise: 23.746176470588235\n",
      "New Hampshire State Avg for No_Exercise: 20.869999999999997\n",
      "New Jersey State Avg for No_Exercise: 26.40952380952381\n",
      "New Mexico State Avg for No_Exercise: 26.138939393939392\n",
      "New York State Avg for No_Exercise: 25.28806451612904\n",
      "North Carolina State Avg for No_Exercise: 28.459150000000008\n",
      "North Dakota State Avg for No_Exercise: 27.053773584905667\n",
      "Ohio State Avg for No_Exercise: 27.392670454545467\n",
      "Oklahoma State Avg for No_Exercise: 32.26025974025973\n",
      "Oregon State Avg for No_Exercise: 21.9575\n",
      "Pennsylvania State Avg for No_Exercise: 24.784626865671637\n",
      "Rhode Island State Avg for No_Exercise: 22.08\n",
      "South Carolina State Avg for No_Exercise: 27.828043478260867\n",
      "South Dakota State Avg for No_Exercise: 27.0160606060606\n",
      "Tennessee State Avg for No_Exercise: 31.33768421052634\n",
      "Texas State Avg for No_Exercise: 29.01080708661422\n",
      "Utah State Avg for No_Exercise: 21.54051724137931\n",
      "Vermont State Avg for No_Exercise: 20.485714285714288\n",
      "Virginia State Avg for No_Exercise: 26.97981343283584\n",
      "Washington State Avg for No_Exercise: 19.797179487179488\n",
      "West Virginia State Avg for No_Exercise: 29.561272727272737\n",
      "Wisconsin State Avg for No_Exercise: 21.69104166666666\n",
      "Wyoming State Avg for No_Exercise: 22.082608695652176\n",
      "Alabama State Avg for Few_Fruit_Veg: 80.08\n",
      "Alaska State Avg for Few_Fruit_Veg: 80.07999999999998\n",
      "Arizona State Avg for Few_Fruit_Veg: 73.812\n",
      "Arkansas State Avg for Few_Fruit_Veg: 80.1824\n",
      "California State Avg for Few_Fruit_Veg: 76.14344827586203\n",
      "Colorado State Avg for Few_Fruit_Veg: 79.18343749999998\n",
      "Connecticut State Avg for Few_Fruit_Veg: 71.325\n",
      "Delaware State Avg for Few_Fruit_Veg: 79.16666666666667\n",
      "District of Columbia State Avg for Few_Fruit_Veg: 68.1\n",
      "Florida State Avg for Few_Fruit_Veg: 77.35910447761191\n",
      "Georgia State Avg for Few_Fruit_Veg: 80.06276729559745\n",
      "Hawaii State Avg for Few_Fruit_Veg: 77.01599999999999\n",
      "Idaho State Avg for Few_Fruit_Veg: 78.61818181818181\n",
      "Illinois State Avg for Few_Fruit_Veg: 79.71999999999997\n",
      "Indiana State Avg for Few_Fruit_Veg: 79.86934782608694\n",
      "Iowa State Avg for Few_Fruit_Veg: 80.96404040404036\n",
      "Kansas State Avg for Few_Fruit_Veg: 80.77885714285713\n",
      "Kentucky State Avg for Few_Fruit_Veg: 81.58966666666669\n",
      "Louisiana State Avg for Few_Fruit_Veg: 83.40124999999999\n",
      "Maine State Avg for Few_Fruit_Veg: 72.30625\n",
      "Maryland State Avg for Few_Fruit_Veg: 73.29416666666665\n",
      "Massachusetts State Avg for Few_Fruit_Veg: 71.83285714285714\n",
      "Michigan State Avg for Few_Fruit_Veg: 79.9802409638554\n",
      "Minnesota State Avg for Few_Fruit_Veg: 79.13448275862063\n",
      "Mississippi State Avg for Few_Fruit_Veg: 82.81560975609754\n",
      "Missouri State Avg for Few_Fruit_Veg: 80.6175652173913\n",
      "Montana State Avg for Few_Fruit_Veg: 77.8503571428571\n",
      "Nebraska State Avg for Few_Fruit_Veg: 80.66021505376342\n",
      "Nevada State Avg for Few_Fruit_Veg: 80.3941176470588\n",
      "New Hampshire State Avg for Few_Fruit_Veg: 71.50999999999999\n",
      "New Jersey State Avg for Few_Fruit_Veg: 73.18095238095238\n",
      "New Mexico State Avg for Few_Fruit_Veg: 79.2909090909091\n",
      "New York State Avg for Few_Fruit_Veg: 76.36677419354838\n",
      "North Carolina State Avg for Few_Fruit_Veg: 79.12299999999996\n",
      "North Dakota State Avg for Few_Fruit_Veg: 78.93811320754718\n",
      "Ohio State Avg for Few_Fruit_Veg: 79.35704545454543\n",
      "Oklahoma State Avg for Few_Fruit_Veg: 83.32233766233765\n",
      "Oregon State Avg for Few_Fruit_Veg: 76.3138888888889\n",
      "Pennsylvania State Avg for Few_Fruit_Veg: 78.05731343283581\n",
      "Rhode Island State Avg for Few_Fruit_Veg: 70.84\n",
      "South Carolina State Avg for Few_Fruit_Veg: 79.20434782608694\n",
      "South Dakota State Avg for Few_Fruit_Veg: 79.58181818181818\n",
      "Tennessee State Avg for Few_Fruit_Veg: 76.708\n",
      "Texas State Avg for Few_Fruit_Veg: 79.83661417322854\n",
      "Utah State Avg for Few_Fruit_Veg: 80.62896551724138\n",
      "Vermont State Avg for Few_Fruit_Veg: 70.22142857142858\n",
      "Virginia State Avg for Few_Fruit_Veg: 78.6959701492537\n",
      "Washington State Avg for Few_Fruit_Veg: 77.27384615384618\n",
      "West Virginia State Avg for Few_Fruit_Veg: 80.3847272727273\n",
      "Wisconsin State Avg for Few_Fruit_Veg: 79.63583333333332\n",
      "Wyoming State Avg for Few_Fruit_Veg: 78.11739130434783\n",
      "Alabama State Avg for Obesity: 26.897560975609753\n",
      "Alaska State Avg for Obesity: 26.897560975609743\n",
      "Arizona State Avg for Obesity: 22.679837398373984\n",
      "Arkansas State Avg for Obesity: 25.875707317073175\n",
      "California State Avg for Obesity: 22.438814129520615\n",
      "Colorado State Avg for Obesity: 20.16772103658537\n",
      "Connecticut State Avg for Obesity: 19.3125\n",
      "Delaware State Avg for Obesity: 23.400000000000002\n",
      "District of Columbia State Avg for Obesity: 21.3\n",
      "Florida State Avg for Obesity: 22.920531488896973\n",
      "Georgia State Avg for Obesity: 25.893281178094824\n",
      "Hawaii State Avg for Obesity: 19.87951219512195\n",
      "Idaho State Avg for Obesity: 22.84534368070953\n",
      "Illinois State Avg for Obesity: 24.780200860832164\n",
      "Indiana State Avg for Obesity: 25.829029692470844\n",
      "Iowa State Avg for Obesity: 24.543040157674312\n",
      "Kansas State Avg for Obesity: 24.44206736353079\n",
      "Kentucky State Avg for Obesity: 26.586300813008133\n",
      "Louisiana State Avg for Obesity: 27.602858231707312\n",
      "Maine State Avg for Obesity: 22.081249999999997\n",
      "Maryland State Avg for Obesity: 23.604166666666668\n",
      "Massachusetts State Avg for Obesity: 17.735714285714288\n",
      "Michigan State Avg for Obesity: 25.787275933000302\n",
      "Minnesota State Avg for Obesity: 24.443846369498196\n",
      "Mississippi State Avg for Obesity: 28.411748958953\n",
      "Missouri State Avg for Obesity: 25.3880593849417\n",
      "Montana State Avg for Obesity: 22.674433797909412\n",
      "Nebraska State Avg for Obesity: 25.222921584054564\n",
      "Nevada State Avg for Obesity: 23.681922525107602\n",
      "New Hampshire State Avg for Obesity: 20.5\n",
      "New Jersey State Avg for Obesity: 21.15714285714286\n",
      "New Mexico State Avg for Obesity: 21.908943089430895\n",
      "New York State Avg for Obesity: 22.719197482297417\n",
      "North Carolina State Avg for Obesity: 25.310512195121955\n",
      "North Dakota State Avg for Obesity: 24.707040957202025\n",
      "Ohio State Avg for Obesity: 25.0827605321508\n",
      "Oklahoma State Avg for Obesity: 25.80091859360152\n",
      "Oregon State Avg for Obesity: 23.577371273712743\n",
      "Pennsylvania State Avg for Obesity: 24.8654532216964\n",
      "Rhode Island State Avg for Obesity: 17.94\n",
      "South Carolina State Avg for Obesity: 28.002067868504763\n",
      "South Dakota State Avg for Obesity: 25.11334072431633\n",
      "Tennessee State Avg for Obesity: 25.871450577663694\n",
      "Texas State Avg for Obesity: 26.33085269829082\n",
      "Utah State Avg for Obesity: 21.275441547518916\n",
      "Vermont State Avg for Obesity: 20.07857142857143\n",
      "Virginia State Avg for Obesity: 25.094412085911934\n",
      "Washington State Avg for Obesity: 23.11269543464665\n",
      "West Virginia State Avg for Obesity: 27.528824833702885\n",
      "Wisconsin State Avg for Obesity: 23.95511517615176\n",
      "Wyoming State Avg for Obesity: 21.195652173913043\n",
      "Alabama State Avg for High_Blood_Pres: 31.600000000000005\n",
      "Alaska State Avg for High_Blood_Pres: 31.600000000000016\n",
      "Arizona State Avg for High_Blood_Pres: 26.073333333333334\n",
      "Arkansas State Avg for High_Blood_Pres: 30.406666666666638\n",
      "California State Avg for High_Blood_Pres: 27.363793103448266\n",
      "Colorado State Avg for High_Blood_Pres: 26.43593749999998\n",
      "Connecticut State Avg for High_Blood_Pres: 24.85\n",
      "Delaware State Avg for High_Blood_Pres: 28.96666666666667\n",
      "District of Columbia State Avg for High_Blood_Pres: 26.7\n",
      "Florida State Avg for High_Blood_Pres: 29.986567164179096\n",
      "Georgia State Avg for High_Blood_Pres: 30.055345911949694\n",
      "Hawaii State Avg for High_Blood_Pres: 25.4\n",
      "Idaho State Avg for High_Blood_Pres: 26.859090909090913\n",
      "Illinois State Avg for High_Blood_Pres: 29.245098039215645\n",
      "Indiana State Avg for High_Blood_Pres: 28.508695652173895\n",
      "Iowa State Avg for High_Blood_Pres: 26.391919191919175\n"
     ]
    },
    {
     "name": "stdout",
     "output_type": "stream",
     "text": [
      "Kansas State Avg for High_Blood_Pres: 29.44571428571425\n",
      "Kentucky State Avg for High_Blood_Pres: 31.00333333333331\n",
      "Louisiana State Avg for High_Blood_Pres: 30.367187499999986\n",
      "Maine State Avg for High_Blood_Pres: 24.79375\n",
      "Maryland State Avg for High_Blood_Pres: 27.82083333333333\n",
      "Massachusetts State Avg for High_Blood_Pres: 25.664285714285715\n",
      "Michigan State Avg for High_Blood_Pres: 29.1180722891566\n",
      "Minnesota State Avg for High_Blood_Pres: 28.118390804597674\n",
      "Mississippi State Avg for High_Blood_Pres: 31.667073170731687\n",
      "Missouri State Avg for High_Blood_Pres: 30.210434782608655\n",
      "Montana State Avg for High_Blood_Pres: 27.703571428571415\n",
      "Nebraska State Avg for High_Blood_Pres: 28.318279569892443\n",
      "Nevada State Avg for High_Blood_Pres: 28.694117647058825\n",
      "New Hampshire State Avg for High_Blood_Pres: 24.6\n",
      "New Jersey State Avg for High_Blood_Pres: 26.390476190476186\n",
      "New Mexico State Avg for High_Blood_Pres: 24.942424242424245\n",
      "New York State Avg for High_Blood_Pres: 28.329032258064498\n",
      "North Carolina State Avg for High_Blood_Pres: 29.930999999999976\n",
      "North Dakota State Avg for High_Blood_Pres: 28.047169811320753\n",
      "Ohio State Avg for High_Blood_Pres: 28.88863636363633\n",
      "Oklahoma State Avg for High_Blood_Pres: 31.171428571428574\n",
      "Oregon State Avg for High_Blood_Pres: 27.905555555555566\n",
      "Pennsylvania State Avg for High_Blood_Pres: 28.644776119402973\n",
      "Rhode Island State Avg for High_Blood_Pres: 27.820000000000004\n",
      "South Carolina State Avg for High_Blood_Pres: 31.152173913043477\n",
      "South Dakota State Avg for High_Blood_Pres: 27.978787878787873\n",
      "Tennessee State Avg for High_Blood_Pres: 30.829473684210498\n",
      "Texas State Avg for High_Blood_Pres: 30.604724409448945\n",
      "Utah State Avg for High_Blood_Pres: 25.32068965517242\n",
      "Vermont State Avg for High_Blood_Pres: 23.514285714285712\n",
      "Virginia State Avg for High_Blood_Pres: 28.922388059701454\n",
      "Washington State Avg for High_Blood_Pres: 26.741025641025644\n",
      "West Virginia State Avg for High_Blood_Pres: 32.14727272727271\n",
      "Wisconsin State Avg for High_Blood_Pres: 27.301388888888873\n",
      "Wyoming State Avg for High_Blood_Pres: 24.656521739130437\n",
      "Alabama State Avg for Smoker: 23.822916666666675\n",
      "Alaska State Avg for Smoker: 23.82291666666667\n",
      "Arizona State Avg for Smoker: 20.234861111111112\n",
      "Arkansas State Avg for Smoker: 26.281111111111112\n",
      "California State Avg for Smoker: 18.169576149425286\n",
      "Colorado State Avg for Smoker: 21.662662760416676\n",
      "Connecticut State Avg for Smoker: 19.4375\n",
      "Delaware State Avg for Smoker: 23.8\n",
      "District of Columbia State Avg for Smoker: 20.4\n",
      "Florida State Avg for Smoker: 23.243594527363186\n",
      "Georgia State Avg for Smoker: 23.323742138364754\n",
      "Hawaii State Avg for Smoker: 20.884583333333335\n",
      "Idaho State Avg for Smoker: 19.73338068181818\n",
      "Illinois State Avg for Smoker: 23.324203431372542\n",
      "Indiana State Avg for Smoker: 26.090534420289842\n",
      "Iowa State Avg for Smoker: 21.385921717171723\n",
      "Kansas State Avg for Smoker: 20.579960317460323\n",
      "Kentucky State Avg for Smoker: 29.958559027777763\n",
      "Louisiana State Avg for Smoker: 24.561523437500004\n",
      "Maine State Avg for Smoker: 22.84375\n",
      "Maryland State Avg for Smoker: 21.629166666666663\n",
      "Massachusetts State Avg for Smoker: 19.54449404761905\n",
      "Michigan State Avg for Smoker: 24.18576807228917\n",
      "Minnesota State Avg for Smoker: 21.928591954023002\n",
      "Mississippi State Avg for Smoker: 24.604293699186993\n",
      "Missouri State Avg for Smoker: 25.290253623188395\n",
      "Montana State Avg for Smoker: 20.953683035714285\n",
      "Nebraska State Avg for Smoker: 20.527172939068105\n",
      "Nevada State Avg for Smoker: 24.752450980392158\n",
      "New Hampshire State Avg for Smoker: 22.68\n",
      "New Jersey State Avg for Smoker: 20.195238095238096\n",
      "New Mexico State Avg for Smoker: 22.84520202020202\n",
      "New York State Avg for Smoker: 23.865120967741955\n",
      "North Carolina State Avg for Smoker: 25.08258333333333\n",
      "North Dakota State Avg for Smoker: 20.378930817610062\n",
      "Ohio State Avg for Smoker: 23.736268939393952\n",
      "Oklahoma State Avg for Smoker: 26.371401515151515\n",
      "Oregon State Avg for Smoker: 20.51857638888889\n",
      "Pennsylvania State Avg for Smoker: 23.967381840796026\n",
      "Rhode Island State Avg for Smoker: 20.76\n",
      "South Carolina State Avg for Smoker: 25.041802536231884\n",
      "South Dakota State Avg for Smoker: 21.19182449494949\n",
      "Tennessee State Avg for Smoker: 25.572478070175436\n",
      "Texas State Avg for Smoker: 23.129502952755935\n",
      "Utah State Avg for Smoker: 14.896264367816094\n",
      "Vermont State Avg for Smoker: 20.664285714285715\n",
      "Virginia State Avg for Smoker: 22.86433457711441\n",
      "Washington State Avg for Smoker: 20.43194444444445\n",
      "West Virginia State Avg for Smoker: 27.019431818181822\n",
      "Wisconsin State Avg for Smoker: 22.17572337962964\n",
      "Wyoming State Avg for Smoker: 21.35217391304348\n",
      "Alabama State Avg for Diabetes: 9.6515625\n",
      "Alaska State Avg for Diabetes: 9.651562500000004\n",
      "Arizona State Avg for Diabetes: 7.699999999999999\n",
      "Arkansas State Avg for Diabetes: 8.196687500000003\n",
      "California State Avg for Diabetes: 7.316729525862068\n",
      "Colorado State Avg for Diabetes: 6.128662109375003\n",
      "Connecticut State Avg for Diabetes: 5.9875\n",
      "Delaware State Avg for Diabetes: 8.0\n",
      "District of Columbia State Avg for Diabetes: 7.8\n",
      "Florida State Avg for Diabetes: 8.594846082089555\n",
      "Georgia State Avg for Diabetes: 8.829510613207544\n",
      "Hawaii State Avg for Diabetes: 7.2503125\n",
      "Idaho State Avg for Diabetes: 6.561434659090907\n",
      "Illinois State Avg for Diabetes: 8.109635416666663\n",
      "Indiana State Avg for Diabetes: 7.945159646739129\n",
      "Iowa State Avg for Diabetes: 6.9494949494949525\n",
      "Kansas State Avg for Diabetes: 7.547247023809522\n",
      "Kentucky State Avg for Diabetes: 8.2762890625\n",
      "Louisiana State Avg for Diabetes: 8.7\n",
      "Maine State Avg for Diabetes: 7.1625\n",
      "Maryland State Avg for Diabetes: 7.583333333333333\n",
      "Massachusetts State Avg for Diabetes: 5.735714285714286\n",
      "Michigan State Avg for Diabetes: 8.132059487951805\n",
      "Minnesota State Avg for Diabetes: 6.59850933908046\n",
      "Mississippi State Avg for Diabetes: 9.956135670731706\n",
      "Missouri State Avg for Diabetes: 8.139633152173914\n",
      "Montana State Avg for Diabetes: 7.0922154017857135\n",
      "Nebraska State Avg for Diabetes: 7.3013104838709655\n",
      "Nevada State Avg for Diabetes: 7.250275735294117\n",
      "New Hampshire State Avg for Diabetes: 6.279999999999999\n",
      "New Jersey State Avg for Diabetes: 7.152380952380952\n",
      "New Mexico State Avg for Diabetes: 7.578882575757575\n",
      "New York State Avg for Diabetes: 7.37663810483871\n",
      "North Carolina State Avg for Diabetes: 8.936546874999998\n",
      "North Dakota State Avg for Diabetes: 7.273761792452831\n",
      "Ohio State Avg for Diabetes: 7.973082386363634\n",
      "Oklahoma State Avg for Diabetes: 8.685754870129868\n",
      "Oregon State Avg for Diabetes: 7.120963541666669\n",
      "Pennsylvania State Avg for Diabetes: 8.030666977611938\n",
      "Rhode Island State Avg for Diabetes: 6.24\n",
      "South Carolina State Avg for Diabetes: 9.97938179347826\n",
      "South Dakota State Avg for Diabetes: 7.802438446969697\n",
      "Tennessee State Avg for Diabetes: 9.045493421052633\n",
      "Texas State Avg for Diabetes: 8.991627706692906\n",
      "Utah State Avg for Diabetes: 5.674299568965516\n",
      "Vermont State Avg for Diabetes: 5.8357142857142845\n",
      "Virginia State Avg for Diabetes: 8.361089085820891\n",
      "Washington State Avg for Diabetes: 7.014142628205128\n",
      "West Virginia State Avg for Diabetes: 10.034545454545457\n",
      "Wisconsin State Avg for Diabetes: 6.470920138888888\n",
      "Wyoming State Avg for Diabetes: 5.78695652173913\n",
      "Alabama State Avg for Elderly_Medicare: 8486.253731343284\n",
      "Alaska State Avg for Elderly_Medicare: 2700.333886124931\n",
      "Arizona State Avg for Elderly_Medicare: 41848.53333333333\n",
      "Arkansas State Avg for Elderly_Medicare: 4830.213333333333\n",
      "California State Avg for Elderly_Medicare: 61300.46551724138\n",
      "Colorado State Avg for Elderly_Medicare: 7019.668143656716\n",
      "Connecticut State Avg for Elderly_Medicare: 57259.0\n",
      "Delaware State Avg for Elderly_Medicare: 33950.0\n",
      "District of Columbia State Avg for Elderly_Medicare: 63403.0\n",
      "Florida State Avg for Elderly_Medicare: 38174.26865671642\n",
      "Georgia State Avg for Elderly_Medicare: 4938.3836477987425\n",
      "Hawaii State Avg for Elderly_Medicare: 33099.250746268655\n",
      "Idaho State Avg for Elderly_Medicare: 3665.710312075984\n",
      "Illinois State Avg for Elderly_Medicare: 14170.843137254902\n",
      "Indiana State Avg for Elderly_Medicare: 8112.652173913043\n",
      "Iowa State Avg for Elderly_Medicare: 4299.262626262626\n",
      "Kansas State Avg for Elderly_Medicare: 3282.504761904762\n",
      "Kentucky State Avg for Elderly_Medicare: 4158.566666666667\n",
      "Louisiana State Avg for Elderly_Medicare: 7870.171875\n",
      "Maine State Avg for Elderly_Medicare: 11529.8125\n",
      "Maryland State Avg for Elderly_Medicare: 24542.708333333332\n",
      "Massachusetts State Avg for Elderly_Medicare: 58704.57142857143\n",
      "Michigan State Avg for Elderly_Medicare: 14669.819277108434\n",
      "Minnesota State Avg for Elderly_Medicare: 6834.045977011494\n",
      "Mississippi State Avg for Elderly_Medicare: 4091.609756097561\n",
      "Missouri State Avg for Elderly_Medicare: 6437.55652173913\n",
      "Montana State Avg for Elderly_Medicare: 2338.325959488273\n",
      "Nebraska State Avg for Elderly_Medicare: 3248.2826191622535\n"
     ]
    },
    {
     "name": "stdout",
     "output_type": "stream",
     "text": [
      "Nevada State Avg for Elderly_Medicare: 13906.058823529413\n",
      "New Hampshire State Avg for Elderly_Medicare: 15196.7\n",
      "New Jersey State Avg for Elderly_Medicare: 51087.09523809524\n",
      "New Mexico State Avg for Elderly_Medicare: 6393.272727272727\n",
      "New York State Avg for Elderly_Medicare: 38072.91935483871\n",
      "North Carolina State Avg for Elderly_Medicare: 9802.08\n",
      "North Dakota State Avg for Elderly_Medicare: 2206.3728527175444\n",
      "Ohio State Avg for Elderly_Medicare: 16886.840909090908\n",
      "Oklahoma State Avg for Elderly_Medicare: 5742.194805194805\n",
      "Oregon State Avg for Elderly_Medicare: 12372.5\n",
      "Pennsylvania State Avg for Elderly_Medicare: 27541.955223880595\n",
      "Rhode Island State Avg for Elderly_Medicare: 29135.4\n",
      "South Carolina State Avg for Elderly_Medicare: 10557.804347826086\n",
      "South Dakota State Avg for Elderly_Medicare: 1627.409090909091\n",
      "Tennessee State Avg for Elderly_Medicare: 7395.5368421052635\n",
      "Texas State Avg for Elderly_Medicare: 8378.259960042305\n",
      "Utah State Avg for Elderly_Medicare: 6942.1811631497685\n",
      "Vermont State Avg for Elderly_Medicare: 5573.714285714285\n",
      "Virginia State Avg for Elderly_Medicare: 5926.7835820895525\n",
      "Washington State Avg for Elderly_Medicare: 17095.53846153846\n",
      "West Virginia State Avg for Elderly_Medicare: 4930.181818181818\n",
      "Wisconsin State Avg for Elderly_Medicare: 9757.375\n",
      "Wyoming State Avg for Elderly_Medicare: 2585.1304347826085\n",
      "Alabama State Avg for Disabled_Medicare: 2246.582089552239\n",
      "Alaska State Avg for Disabled_Medicare: 654.6047540077392\n",
      "Arizona State Avg for Disabled_Medicare: 6732.733333333334\n",
      "Arkansas State Avg for Disabled_Medicare: 1202.8933333333334\n",
      "California State Avg for Disabled_Medicare: 9004.603448275862\n",
      "Colorado State Avg for Disabled_Medicare: 1188.5897854477612\n",
      "Connecticut State Avg for Disabled_Medicare: 8033.875\n",
      "Delaware State Avg for Disabled_Medicare: 5789.666666666667\n",
      "District of Columbia State Avg for Disabled_Medicare: 10262.0\n",
      "Florida State Avg for Disabled_Medicare: 5413.462686567164\n",
      "Georgia State Avg for Disabled_Medicare: 1184.9182389937107\n",
      "Hawaii State Avg for Disabled_Medicare: 3947.9164179104473\n",
      "Idaho State Avg for Disabled_Medicare: 613.2405020352782\n",
      "Illinois State Avg for Disabled_Medicare: 2107.9411764705883\n",
      "Indiana State Avg for Disabled_Medicare: 1429.4021739130435\n",
      "Iowa State Avg for Disabled_Medicare: 572.4545454545455\n",
      "Kansas State Avg for Disabled_Medicare: 471.15238095238095\n",
      "Kentucky State Avg for Disabled_Medicare: 1243.725\n",
      "Louisiana State Avg for Disabled_Medicare: 1818.359375\n",
      "Maine State Avg for Disabled_Medicare: 2632.375\n",
      "Maryland State Avg for Disabled_Medicare: 3553.75\n",
      "Massachusetts State Avg for Disabled_Medicare: 10279.285714285714\n",
      "Michigan State Avg for Disabled_Medicare: 2737.240963855422\n",
      "Minnesota State Avg for Disabled_Medicare: 936.9770114942529\n",
      "Mississippi State Avg for Disabled_Medicare: 1233.0731707317073\n",
      "Missouri State Avg for Disabled_Medicare: 1252.391304347826\n",
      "Montana State Avg for Disabled_Medicare: 395.1175373134329\n",
      "Nebraska State Avg for Disabled_Medicare: 542.7552559781738\n",
      "Nevada State Avg for Disabled_Medicare: 2189.1176470588234\n",
      "New Hampshire State Avg for Disabled_Medicare: 2693.6\n",
      "New Jersey State Avg for Disabled_Medicare: 6994.523809523809\n",
      "New Mexico State Avg for Disabled_Medicare: 1180.939393939394\n",
      "New York State Avg for Disabled_Medicare: 6488.3387096774195\n",
      "North Carolina State Avg for Disabled_Medicare: 2251.18\n",
      "North Dakota State Avg for Disabled_Medicare: 335.7499295972965\n",
      "Ohio State Avg for Disabled_Medicare: 2737.556818181818\n",
      "Oklahoma State Avg for Disabled_Medicare: 1026.8961038961038\n",
      "Oregon State Avg for Disabled_Medicare: 1881.1944444444443\n",
      "Pennsylvania State Avg for Disabled_Medicare: 3953.8507462686566\n",
      "Rhode Island State Avg for Disabled_Medicare: 5343.0\n",
      "South Carolina State Avg for Disabled_Medicare: 2619.8695652173915\n",
      "South Dakota State Avg for Disabled_Medicare: 217.13636363636363\n",
      "Tennessee State Avg for Disabled_Medicare: 1781.6842105263158\n",
      "Texas State Avg for Disabled_Medicare: 1365.4356563638503\n",
      "Utah State Avg for Disabled_Medicare: 1012.4338651569739\n",
      "Vermont State Avg for Disabled_Medicare: 1045.7857142857142\n",
      "Virginia State Avg for Disabled_Medicare: 1139.258075295166\n",
      "Washington State Avg for Disabled_Medicare: 2781.871794871795\n",
      "West Virginia State Avg for Disabled_Medicare: 1386.1636363636364\n",
      "Wisconsin State Avg for Disabled_Medicare: 1402.9027777777778\n",
      "Wyoming State Avg for Disabled_Medicare: 392.4347826086956\n",
      "Alabama State Avg for Dentist_Rate: 23.977611940298516\n",
      "Alaska State Avg for Dentist_Rate: 40.877777777777766\n",
      "Arizona State Avg for Dentist_Rate: 26.41333333333333\n",
      "Arkansas State Avg for Dentist_Rate: 26.524\n",
      "California State Avg for Dentist_Rate: 47.14137931034484\n",
      "Colorado State Avg for Dentist_Rate: 33.73090018656716\n",
      "Connecticut State Avg for Dentist_Rate: 57.0\n",
      "Delaware State Avg for Dentist_Rate: 31.099999999999998\n",
      "District of Columbia State Avg for Dentist_Rate: 102.8\n",
      "Florida State Avg for Dentist_Rate: 26.18358208955224\n",
      "Georgia State Avg for Dentist_Rate: 19.65094339622641\n",
      "Hawaii State Avg for Dentist_Rate: 46.839999999999996\n",
      "Idaho State Avg for Dentist_Rate: 32.43863636363636\n",
      "Illinois State Avg for Dentist_Rate: 33.13823529411764\n",
      "Indiana State Avg for Dentist_Rate: 30.18586956521738\n",
      "Iowa State Avg for Dentist_Rate: 38.680808080808085\n",
      "Kansas State Avg for Dentist_Rate: 31.80190476190477\n",
      "Kentucky State Avg for Dentist_Rate: 30.717499999999998\n",
      "Louisiana State Avg for Dentist_Rate: 25.914062500000018\n",
      "Maine State Avg for Dentist_Rate: 38.6\n",
      "Maryland State Avg for Dentist_Rate: 43.65833333333334\n",
      "Massachusetts State Avg for Dentist_Rate: 58.192857142857136\n",
      "Michigan State Avg for Dentist_Rate: 38.796385542168686\n",
      "Minnesota State Avg for Dentist_Rate: 40.31264367816092\n",
      "Mississippi State Avg for Dentist_Rate: 23.502439024390245\n",
      "Missouri State Avg for Dentist_Rate: 27.386956521739133\n",
      "Montana State Avg for Dentist_Rate: 31.651785714285715\n",
      "Nebraska State Avg for Dentist_Rate: 40.5956989247312\n",
      "Nevada State Avg for Dentist_Rate: 20.34705882352941\n",
      "New Hampshire State Avg for Dentist_Rate: 44.62\n",
      "New Jersey State Avg for Dentist_Rate: 57.25714285714286\n",
      "New Mexico State Avg for Dentist_Rate: 25.12424242424242\n",
      "New York State Avg for Dentist_Rate: 45.67096774193548\n",
      "North Carolina State Avg for Dentist_Rate: 24.678\n",
      "North Dakota State Avg for Dentist_Rate: 37.879245283018875\n",
      "Ohio State Avg for Dentist_Rate: 31.52500000000001\n",
      "Oklahoma State Avg for Dentist_Rate: 28.53246753246753\n",
      "Oregon State Avg for Dentist_Rate: 43.663888888888884\n",
      "Pennsylvania State Avg for Dentist_Rate: 42.64029850746267\n",
      "Rhode Island State Avg for Dentist_Rate: 52.7\n",
      "South Carolina State Avg for Dentist_Rate: 27.391304347826082\n",
      "South Dakota State Avg for Dentist_Rate: 30.96969696969697\n",
      "Tennessee State Avg for Dentist_Rate: 25.091578947368415\n",
      "Texas State Avg for Dentist_Rate: 22.580708661417326\n",
      "Utah State Avg for Dentist_Rate: 35.13793103448276\n",
      "Vermont State Avg for Dentist_Rate: 44.0\n",
      "Virginia State Avg for Dentist_Rate: 40.979104477611926\n",
      "Washington State Avg for Dentist_Rate: 36.62307692307694\n",
      "West Virginia State Avg for Dentist_Rate: 31.969090909090905\n",
      "Wisconsin State Avg for Dentist_Rate: 39.6263888888889\n",
      "Wyoming State Avg for Dentist_Rate: 41.51304347826087\n"
     ]
    }
   ],
   "source": [
    "impute()"
   ]
  },
  {
   "cell_type": "markdown",
   "metadata": {},
   "source": [
    "### Dropping Missing Values from Target Variable"
   ]
  },
  {
   "cell_type": "code",
   "execution_count": 14,
   "metadata": {},
   "outputs": [
    {
     "data": {
      "text/html": [
       "<div>\n",
       "<style scoped>\n",
       "    .dataframe tbody tr th:only-of-type {\n",
       "        vertical-align: middle;\n",
       "    }\n",
       "\n",
       "    .dataframe tbody tr th {\n",
       "        vertical-align: top;\n",
       "    }\n",
       "\n",
       "    .dataframe thead th {\n",
       "        text-align: right;\n",
       "    }\n",
       "</style>\n",
       "<table border=\"1\" class=\"dataframe\">\n",
       "  <thead>\n",
       "    <tr style=\"text-align: right;\">\n",
       "      <th></th>\n",
       "      <th>State_FIPS_Code</th>\n",
       "      <th>CHSI_County_Name</th>\n",
       "      <th>CHSI_State_Name</th>\n",
       "      <th>CHSI_State_Abbr</th>\n",
       "      <th>Strata_ID_Number</th>\n",
       "      <th>No_Exercise</th>\n",
       "      <th>Few_Fruit_Veg</th>\n",
       "      <th>Obesity</th>\n",
       "      <th>High_Blood_Pres</th>\n",
       "      <th>Smoker</th>\n",
       "      <th>Diabetes</th>\n",
       "      <th>Uninsured</th>\n",
       "      <th>Elderly_Medicare</th>\n",
       "      <th>Disabled_Medicare</th>\n",
       "      <th>Prim_Care_Phys_Rate</th>\n",
       "      <th>Dentist_Rate</th>\n",
       "      <th>Community_Health_Center_Ind</th>\n",
       "      <th>HPSA_Ind</th>\n",
       "      <th>POP_COU</th>\n",
       "      <th>POP_URBAN</th>\n",
       "      <th>POPPCT_URBAN</th>\n",
       "      <th>AREA_URBAN</th>\n",
       "      <th>AREAPCT_URBAN</th>\n",
       "      <th>POP_RURAL</th>\n",
       "      <th>POPPCT_RURAL</th>\n",
       "      <th>AREA_RURAL</th>\n",
       "      <th>AREAPCT_RURAL</th>\n",
       "      <th>Median household income</th>\n",
       "      <th>medincome</th>\n",
       "      <th>povertypercent</th>\n",
       "      <th>medianagemale</th>\n",
       "      <th>medianagefemale</th>\n",
       "      <th>percentmarried</th>\n",
       "      <th>no_hs_24</th>\n",
       "      <th>hs_24</th>\n",
       "      <th>college_24</th>\n",
       "      <th>hs_25</th>\n",
       "      <th>college_25</th>\n",
       "      <th>pctemployed</th>\n",
       "      <th>pctunemployed</th>\n",
       "      <th>pctprivatecoverage</th>\n",
       "      <th>pctempprivcoverage</th>\n",
       "      <th>pctpubliccoverage</th>\n",
       "      <th>pctpubliccoveragealone</th>\n",
       "      <th>pctwhite</th>\n",
       "      <th>pctblack</th>\n",
       "      <th>pctasian</th>\n",
       "      <th>pctotherrace</th>\n",
       "      <th>pctmarriedhouseholds</th>\n",
       "    </tr>\n",
       "  </thead>\n",
       "  <tbody>\n",
       "    <tr>\n",
       "      <th>249</th>\n",
       "      <td>8.0</td>\n",
       "      <td>Broomfield</td>\n",
       "      <td>Colorado</td>\n",
       "      <td>CO</td>\n",
       "      <td>27.0</td>\n",
       "      <td>14.400</td>\n",
       "      <td>80.08</td>\n",
       "      <td>21.500000</td>\n",
       "      <td>15.9</td>\n",
       "      <td>17.400000</td>\n",
       "      <td>3.300000</td>\n",
       "      <td>NaN</td>\n",
       "      <td>8486.253731</td>\n",
       "      <td>2246.58209</td>\n",
       "      <td>87.4</td>\n",
       "      <td>23.977612</td>\n",
       "      <td>1.0</td>\n",
       "      <td>1.0</td>\n",
       "      <td>6499</td>\n",
       "      <td>4032</td>\n",
       "      <td>62.04</td>\n",
       "      <td>3651419</td>\n",
       "      <td>0.09</td>\n",
       "      <td>2467</td>\n",
       "      <td>37.96</td>\n",
       "      <td>3.914641e+09</td>\n",
       "      <td>99.91</td>\n",
       "      <td>36791.0</td>\n",
       "      <td>83603.0</td>\n",
       "      <td>5.9</td>\n",
       "      <td>45.1</td>\n",
       "      <td>45.2</td>\n",
       "      <td>62.6</td>\n",
       "      <td>18.2</td>\n",
       "      <td>32.9</td>\n",
       "      <td>11.0</td>\n",
       "      <td>27.0</td>\n",
       "      <td>22.0</td>\n",
       "      <td>64.7</td>\n",
       "      <td>6.7</td>\n",
       "      <td>77.9</td>\n",
       "      <td>51.7</td>\n",
       "      <td>22.9</td>\n",
       "      <td>10.8</td>\n",
       "      <td>95.275624</td>\n",
       "      <td>0.528191</td>\n",
       "      <td>0.838399</td>\n",
       "      <td>0.301824</td>\n",
       "      <td>68.195319</td>\n",
       "    </tr>\n",
       "    <tr>\n",
       "      <th>317</th>\n",
       "      <td>11.0</td>\n",
       "      <td>Washington</td>\n",
       "      <td>District of Columbia</td>\n",
       "      <td>DC</td>\n",
       "      <td>3.0</td>\n",
       "      <td>22.200</td>\n",
       "      <td>68.10</td>\n",
       "      <td>21.300000</td>\n",
       "      <td>26.7</td>\n",
       "      <td>20.400000</td>\n",
       "      <td>7.800000</td>\n",
       "      <td>NaN</td>\n",
       "      <td>63403.000000</td>\n",
       "      <td>10262.00000</td>\n",
       "      <td>227.6</td>\n",
       "      <td>102.800000</td>\n",
       "      <td>0.0</td>\n",
       "      <td>1.0</td>\n",
       "      <td>538479</td>\n",
       "      <td>513696</td>\n",
       "      <td>95.40</td>\n",
       "      <td>543209334</td>\n",
       "      <td>49.20</td>\n",
       "      <td>24783</td>\n",
       "      <td>4.60</td>\n",
       "      <td>5.608655e+08</td>\n",
       "      <td>50.80</td>\n",
       "      <td>65476.0</td>\n",
       "      <td>36788.0</td>\n",
       "      <td>25.3</td>\n",
       "      <td>39.1</td>\n",
       "      <td>48.7</td>\n",
       "      <td>49.8</td>\n",
       "      <td>37.6</td>\n",
       "      <td>20.3</td>\n",
       "      <td>1.4</td>\n",
       "      <td>35.4</td>\n",
       "      <td>10.1</td>\n",
       "      <td>43.9</td>\n",
       "      <td>9.4</td>\n",
       "      <td>52.8</td>\n",
       "      <td>28.7</td>\n",
       "      <td>43.3</td>\n",
       "      <td>20.9</td>\n",
       "      <td>81.991744</td>\n",
       "      <td>14.551084</td>\n",
       "      <td>0.756794</td>\n",
       "      <td>0.455796</td>\n",
       "      <td>50.507146</td>\n",
       "    </tr>\n",
       "    <tr>\n",
       "      <th>546</th>\n",
       "      <td>15.0</td>\n",
       "      <td>Kalawao</td>\n",
       "      <td>Hawaii</td>\n",
       "      <td>HI</td>\n",
       "      <td>37.0</td>\n",
       "      <td>29.795</td>\n",
       "      <td>80.08</td>\n",
       "      <td>26.897561</td>\n",
       "      <td>31.6</td>\n",
       "      <td>23.822917</td>\n",
       "      <td>9.651563</td>\n",
       "      <td>NaN</td>\n",
       "      <td>8486.253731</td>\n",
       "      <td>2246.58209</td>\n",
       "      <td>0.0</td>\n",
       "      <td>0.000000</td>\n",
       "      <td>1.0</td>\n",
       "      <td>1.0</td>\n",
       "      <td>185079</td>\n",
       "      <td>114766</td>\n",
       "      <td>62.01</td>\n",
       "      <td>224652200</td>\n",
       "      <td>2.15</td>\n",
       "      <td>70313</td>\n",
       "      <td>37.99</td>\n",
       "      <td>1.020890e+10</td>\n",
       "      <td>97.85</td>\n",
       "      <td>52108.0</td>\n",
       "      <td>44669.0</td>\n",
       "      <td>17.1</td>\n",
       "      <td>35.3</td>\n",
       "      <td>37.2</td>\n",
       "      <td>59.1</td>\n",
       "      <td>23.0</td>\n",
       "      <td>44.2</td>\n",
       "      <td>4.3</td>\n",
       "      <td>33.1</td>\n",
       "      <td>8.9</td>\n",
       "      <td>59.9</td>\n",
       "      <td>3.8</td>\n",
       "      <td>50.5</td>\n",
       "      <td>27.3</td>\n",
       "      <td>37.6</td>\n",
       "      <td>22.4</td>\n",
       "      <td>86.437340</td>\n",
       "      <td>0.072212</td>\n",
       "      <td>0.597387</td>\n",
       "      <td>9.440032</td>\n",
       "      <td>59.883612</td>\n",
       "    </tr>\n",
       "  </tbody>\n",
       "</table>\n",
       "</div>"
      ],
      "text/plain": [
       "     State_FIPS_Code CHSI_County_Name       CHSI_State_Name CHSI_State_Abbr  \\\n",
       "249              8.0       Broomfield              Colorado              CO   \n",
       "317             11.0       Washington  District of Columbia              DC   \n",
       "546             15.0          Kalawao                Hawaii              HI   \n",
       "\n",
       "     Strata_ID_Number  No_Exercise  Few_Fruit_Veg    Obesity  High_Blood_Pres  \\\n",
       "249              27.0       14.400          80.08  21.500000             15.9   \n",
       "317               3.0       22.200          68.10  21.300000             26.7   \n",
       "546              37.0       29.795          80.08  26.897561             31.6   \n",
       "\n",
       "        Smoker  Diabetes  Uninsured  Elderly_Medicare  Disabled_Medicare  \\\n",
       "249  17.400000  3.300000        NaN       8486.253731         2246.58209   \n",
       "317  20.400000  7.800000        NaN      63403.000000        10262.00000   \n",
       "546  23.822917  9.651563        NaN       8486.253731         2246.58209   \n",
       "\n",
       "     Prim_Care_Phys_Rate  Dentist_Rate  Community_Health_Center_Ind  HPSA_Ind  \\\n",
       "249                 87.4     23.977612                          1.0       1.0   \n",
       "317                227.6    102.800000                          0.0       1.0   \n",
       "546                  0.0      0.000000                          1.0       1.0   \n",
       "\n",
       "     POP_COU  POP_URBAN  POPPCT_URBAN  AREA_URBAN  AREAPCT_URBAN  POP_RURAL  \\\n",
       "249     6499       4032         62.04     3651419           0.09       2467   \n",
       "317   538479     513696         95.40   543209334          49.20      24783   \n",
       "546   185079     114766         62.01   224652200           2.15      70313   \n",
       "\n",
       "     POPPCT_RURAL    AREA_RURAL  AREAPCT_RURAL  Median household income  \\\n",
       "249         37.96  3.914641e+09          99.91                  36791.0   \n",
       "317          4.60  5.608655e+08          50.80                  65476.0   \n",
       "546         37.99  1.020890e+10          97.85                  52108.0   \n",
       "\n",
       "     medincome  povertypercent  medianagemale  medianagefemale  \\\n",
       "249    83603.0             5.9           45.1             45.2   \n",
       "317    36788.0            25.3           39.1             48.7   \n",
       "546    44669.0            17.1           35.3             37.2   \n",
       "\n",
       "     percentmarried  no_hs_24  hs_24  college_24  hs_25  college_25  \\\n",
       "249            62.6      18.2   32.9        11.0   27.0        22.0   \n",
       "317            49.8      37.6   20.3         1.4   35.4        10.1   \n",
       "546            59.1      23.0   44.2         4.3   33.1         8.9   \n",
       "\n",
       "     pctemployed  pctunemployed  pctprivatecoverage  pctempprivcoverage  \\\n",
       "249         64.7            6.7                77.9                51.7   \n",
       "317         43.9            9.4                52.8                28.7   \n",
       "546         59.9            3.8                50.5                27.3   \n",
       "\n",
       "     pctpubliccoverage  pctpubliccoveragealone   pctwhite   pctblack  \\\n",
       "249               22.9                    10.8  95.275624   0.528191   \n",
       "317               43.3                    20.9  81.991744  14.551084   \n",
       "546               37.6                    22.4  86.437340   0.072212   \n",
       "\n",
       "     pctasian  pctotherrace  pctmarriedhouseholds  \n",
       "249  0.838399      0.301824             68.195319  \n",
       "317  0.756794      0.455796             50.507146  \n",
       "546  0.597387      9.440032             59.883612  "
      ]
     },
     "execution_count": 14,
     "metadata": {},
     "output_type": "execute_result"
    }
   ],
   "source": [
    "df[df.Uninsured.isnull()]"
   ]
  },
  {
   "cell_type": "code",
   "execution_count": 15,
   "metadata": {},
   "outputs": [
    {
     "data": {
      "text/plain": [
       "(3141, 49)"
      ]
     },
     "execution_count": 15,
     "metadata": {},
     "output_type": "execute_result"
    }
   ],
   "source": [
    "df.shape"
   ]
  },
  {
   "cell_type": "code",
   "execution_count": 16,
   "metadata": {},
   "outputs": [],
   "source": [
    "df = df.dropna() # There was a subset of counties in remote areas that had very little data collected from them"
   ]
  },
  {
   "cell_type": "code",
   "execution_count": 17,
   "metadata": {
    "scrolled": true
   },
   "outputs": [
    {
     "data": {
      "text/plain": [
       "(2891, 49)"
      ]
     },
     "execution_count": 17,
     "metadata": {},
     "output_type": "execute_result"
    }
   ],
   "source": [
    "df.shape"
   ]
  },
  {
   "cell_type": "markdown",
   "metadata": {},
   "source": [
    "## Removing Correlated Features"
   ]
  },
  {
   "cell_type": "code",
   "execution_count": 18,
   "metadata": {},
   "outputs": [
    {
     "name": "stdout",
     "output_type": "stream",
     "text": [
      "['Disabled_Medicare', 'POP_URBAN', 'POPPCT_RURAL', 'AREAPCT_RURAL']\n"
     ]
    }
   ],
   "source": [
    "# Create correlation matrix\n",
    "corr_matrix = df.corr().abs()\n",
    "\n",
    "# Select upper triangle of correlation matrix\n",
    "upper = corr_matrix.where(np.triu(np.ones(corr_matrix.shape), k=1).astype(np.bool))\n",
    "\n",
    "# Find features with correlation greater than 0.95\n",
    "to_drop = [column for column in upper.columns if any(upper[column] > 0.95)]\n",
    "print(to_drop)\n",
    "# Drop features \n",
    "df.drop(to_drop, axis=1, inplace=True)"
   ]
  },
  {
   "cell_type": "markdown",
   "metadata": {},
   "source": [
    "## Feature Engineering"
   ]
  },
  {
   "cell_type": "markdown",
   "metadata": {},
   "source": [
    "I had total number of uninsured, but in order to keep population from overwhelming the differences between counties, I converted to a percentage."
   ]
  },
  {
   "cell_type": "code",
   "execution_count": 19,
   "metadata": {},
   "outputs": [],
   "source": [
    "df['Percent_Uninsured'] = round(df.Uninsured / df.POP_COU * 100, 3)"
   ]
  },
  {
   "cell_type": "markdown",
   "metadata": {},
   "source": [
    "I hypothesized from the community health indicators that the presence of community health centers would affect counties differently depending on if they were rural or urban. Because there are fewer facilities in rural areas, I predicted that a community health center would have a greater affect."
   ]
  },
  {
   "cell_type": "code",
   "execution_count": 20,
   "metadata": {},
   "outputs": [],
   "source": [
    "df['CHC_x_POPPCT_URBAN'] = df.Community_Health_Center_Ind * df.POPPCT_URBAN"
   ]
  },
  {
   "cell_type": "code",
   "execution_count": 21,
   "metadata": {},
   "outputs": [],
   "source": [
    "df['HPSA_x_POPPCT_URBAN'] = df.HPSA_Ind * df.POPPCT_URBAN"
   ]
  },
  {
   "cell_type": "code",
   "execution_count": 22,
   "metadata": {},
   "outputs": [],
   "source": [
    "df['Median_Household_Income'] = df['Median household income'] # Renaming to remove spaces"
   ]
  },
  {
   "cell_type": "markdown",
   "metadata": {},
   "source": [
    "Because of some differences in the datasets, some counties had greater than 100% uninsured rates, which are obvious outliers. "
   ]
  },
  {
   "cell_type": "code",
   "execution_count": 23,
   "metadata": {},
   "outputs": [],
   "source": [
    "df = df[df.Percent_Uninsured <= 100] # Remove percents greater than 100%"
   ]
  },
  {
   "cell_type": "code",
   "execution_count": 24,
   "metadata": {},
   "outputs": [
    {
     "data": {
      "text/plain": [
       "(2599, 49)"
      ]
     },
     "execution_count": 24,
     "metadata": {},
     "output_type": "execute_result"
    }
   ],
   "source": [
    "df.shape"
   ]
  },
  {
   "cell_type": "markdown",
   "metadata": {},
   "source": [
    "## EDA & Visualizations"
   ]
  },
  {
   "cell_type": "markdown",
   "metadata": {},
   "source": [
    "Let's start by looking at the distribution of counties by the uninsured rate."
   ]
  },
  {
   "cell_type": "code",
   "execution_count": 25,
   "metadata": {},
   "outputs": [
    {
     "data": {
      "image/png": "[encoded data removed]",
      "text/plain": [
       "<Figure size 1008x576 with 1 Axes>"
      ]
     },
     "metadata": {
      "needs_background": "light"
     },
     "output_type": "display_data"
    }
   ],
   "source": [
    "plt.figure(figsize=(14,8))\n",
    "plt.hist(df.Percent_Uninsured, bins=100, density=True, color='tan')\n",
    "plt.title('Distribution of Counties by Percent Uninsured')\n",
    "plt.xlabel('Percent Uninsured')\n",
    "plt.ylabel('Percent of Counties')\n",
    "plt.show()"
   ]
  },
  {
   "cell_type": "markdown",
   "metadata": {},
   "source": [
    "We can see that most counties have less than 10% uninsured, but there is a wide range of percentages. The highest values are in counties with small, sparse populations."
   ]
  },
  {
   "cell_type": "markdown",
   "metadata": {},
   "source": [
    "### Stat Test: Two Proportion Z-Test \n",
    "#### Do rural and urban counties have different incidence of Community Health Centers?"
   ]
  },
  {
   "cell_type": "markdown",
   "metadata": {},
   "source": [
    "From research, using a 75% cutoff to define county. I.e. counties with greater than 75% of their population urban, are urban, otherwise they are rural."
   ]
  },
  {
   "cell_type": "code",
   "execution_count": 26,
   "metadata": {},
   "outputs": [],
   "source": [
    "df_rural = df[df.POPPCT_URBAN <= 75]\n",
    "df_urban = df[df.POPPCT_URBAN > 75]"
   ]
  },
  {
   "cell_type": "code",
   "execution_count": 27,
   "metadata": {},
   "outputs": [
    {
     "data": {
      "text/plain": [
       "2091"
      ]
     },
     "execution_count": 27,
     "metadata": {},
     "output_type": "execute_result"
    }
   ],
   "source": [
    "len(df_rural)"
   ]
  },
  {
   "cell_type": "code",
   "execution_count": 28,
   "metadata": {
    "scrolled": true
   },
   "outputs": [
    {
     "data": {
      "text/plain": [
       "508"
      ]
     },
     "execution_count": 28,
     "metadata": {},
     "output_type": "execute_result"
    }
   ],
   "source": [
    "len(df_urban)"
   ]
  },
  {
   "cell_type": "markdown",
   "metadata": {},
   "source": [
    "Define presence of Community Health Center."
   ]
  },
  {
   "cell_type": "code",
   "execution_count": 29,
   "metadata": {},
   "outputs": [],
   "source": [
    "df_rural_CHC = df_rural[df_rural.Community_Health_Center_Ind == 1.0]"
   ]
  },
  {
   "cell_type": "code",
   "execution_count": 30,
   "metadata": {},
   "outputs": [
    {
     "data": {
      "text/plain": [
       "1240"
      ]
     },
     "execution_count": 30,
     "metadata": {},
     "output_type": "execute_result"
    }
   ],
   "source": [
    "len(df_rural_CHC)"
   ]
  },
  {
   "cell_type": "code",
   "execution_count": 31,
   "metadata": {},
   "outputs": [],
   "source": [
    "df_urban_CHC = df_urban[df_urban.Community_Health_Center_Ind == 1.0]"
   ]
  },
  {
   "cell_type": "code",
   "execution_count": 32,
   "metadata": {},
   "outputs": [
    {
     "data": {
      "text/plain": [
       "253"
      ]
     },
     "execution_count": 32,
     "metadata": {},
     "output_type": "execute_result"
    }
   ],
   "source": [
    "len(df_urban_CHC)"
   ]
  },
  {
   "cell_type": "code",
   "execution_count": 33,
   "metadata": {
    "scrolled": true
   },
   "outputs": [
    {
     "data": {
      "text/plain": [
       "(3.8838732946017176, 0.00010280549625075338)"
      ]
     },
     "execution_count": 33,
     "metadata": {},
     "output_type": "execute_result"
    }
   ],
   "source": [
    "sms.proportion.proportions_ztest([len(df_rural_CHC), len(df_urban_CHC)], [len(df_rural), len(df_urban)])"
   ]
  },
  {
   "cell_type": "markdown",
   "metadata": {},
   "source": [
    "P-value = 0.0001, so can reject null hypothesis and conclude that there is a difference between rural and urban counties regarding the presence of community health centers."
   ]
  },
  {
   "cell_type": "markdown",
   "metadata": {},
   "source": [
    "### Stat Test 2: Two Proportion Z-Test \n",
    "#### Do rural and urban counties have a different rate of underservedness?"
   ]
  },
  {
   "cell_type": "markdown",
   "metadata": {},
   "source": [
    "Define if the county is medically underserved."
   ]
  },
  {
   "cell_type": "code",
   "execution_count": 34,
   "metadata": {},
   "outputs": [],
   "source": [
    "df_rural_HPSA = df_rural[df_rural.HPSA_Ind == 1.0]"
   ]
  },
  {
   "cell_type": "code",
   "execution_count": 35,
   "metadata": {},
   "outputs": [
    {
     "data": {
      "text/plain": [
       "1519"
      ]
     },
     "execution_count": 35,
     "metadata": {},
     "output_type": "execute_result"
    }
   ],
   "source": [
    "len(df_rural_HPSA)"
   ]
  },
  {
   "cell_type": "code",
   "execution_count": 36,
   "metadata": {},
   "outputs": [],
   "source": [
    "df_urban_HPSA = df_urban[df_urban.HPSA_Ind == 1.0]"
   ]
  },
  {
   "cell_type": "code",
   "execution_count": 37,
   "metadata": {},
   "outputs": [
    {
     "data": {
      "text/plain": [
       "394"
      ]
     },
     "execution_count": 37,
     "metadata": {},
     "output_type": "execute_result"
    }
   ],
   "source": [
    "len(df_urban_HPSA)"
   ]
  },
  {
   "cell_type": "code",
   "execution_count": 38,
   "metadata": {},
   "outputs": [
    {
     "data": {
      "text/plain": [
       "(-2.254041286737303, 0.024193570745392797)"
      ]
     },
     "execution_count": 38,
     "metadata": {},
     "output_type": "execute_result"
    }
   ],
   "source": [
    "sms.proportion.proportions_ztest([len(df_rural_HPSA), len(df_urban_HPSA)], [len(df_rural), len(df_urban)])"
   ]
  },
  {
   "cell_type": "markdown",
   "metadata": {},
   "source": [
    "P-value = 0.024, so can reject null hypothesis and conclude that there is a difference between rural and urban counties regarding their underservedness."
   ]
  },
  {
   "cell_type": "markdown",
   "metadata": {},
   "source": [
    "Looking at the visualization..."
   ]
  },
  {
   "cell_type": "code",
   "execution_count": 39,
   "metadata": {},
   "outputs": [],
   "source": [
    "x = ['Urban', 'Rural']\n",
    "y = [df_urban.HPSA_Ind.mean(), df_rural.HPSA_Ind.mean()]"
   ]
  },
  {
   "cell_type": "code",
   "execution_count": 40,
   "metadata": {},
   "outputs": [
    {
     "data": {
      "image/png": "[encoded data removed]",
      "text/plain": [
       "<Figure size 576x576 with 1 Axes>"
      ]
     },
     "metadata": {
      "needs_background": "light"
     },
     "output_type": "display_data"
    }
   ],
   "source": [
    "plt.figure(figsize=(8,8))\n",
    "plt.bar(x, y, color ='tan')\n",
    "plt.title('Mean Counties Underserved by County Type')\n",
    "plt.ylabel('Percent Medically Underserved')\n",
    "plt.show()"
   ]
  },
  {
   "cell_type": "markdown",
   "metadata": {},
   "source": [
    "Note that the percentage of underserved counties is high regardless of urban/rural."
   ]
  },
  {
   "cell_type": "markdown",
   "metadata": {},
   "source": [
    "### Stat Test 3: Two Means T-Test \n",
    "#### Do rural and urban counties have a different rate of uninsured?"
   ]
  },
  {
   "cell_type": "code",
   "execution_count": 41,
   "metadata": {},
   "outputs": [],
   "source": [
    "rural = df_rural.Percent_Uninsured"
   ]
  },
  {
   "cell_type": "code",
   "execution_count": 42,
   "metadata": {},
   "outputs": [],
   "source": [
    "urban = df_urban.Percent_Uninsured"
   ]
  },
  {
   "cell_type": "code",
   "execution_count": 43,
   "metadata": {},
   "outputs": [
    {
     "data": {
      "text/plain": [
       "Ttest_indResult(statistic=11.917737293476847, pvalue=6.399598718670862e-32)"
      ]
     },
     "execution_count": 43,
     "metadata": {},
     "output_type": "execute_result"
    }
   ],
   "source": [
    "scipy.stats.ttest_ind(rural, urban)"
   ]
  },
  {
   "cell_type": "markdown",
   "metadata": {},
   "source": [
    "There is a statistical difference between the uninsured rate between rural and urban counties, and that difference is large (21% vs 9% uninsured). "
   ]
  },
  {
   "cell_type": "code",
   "execution_count": 44,
   "metadata": {},
   "outputs": [
    {
     "data": {
      "text/plain": [
       "21.163396461023442"
      ]
     },
     "execution_count": 44,
     "metadata": {},
     "output_type": "execute_result"
    }
   ],
   "source": [
    "rural.mean()"
   ]
  },
  {
   "cell_type": "code",
   "execution_count": 45,
   "metadata": {},
   "outputs": [
    {
     "data": {
      "text/plain": [
       "9.157561023622048"
      ]
     },
     "execution_count": 45,
     "metadata": {},
     "output_type": "execute_result"
    }
   ],
   "source": [
    "urban.mean()"
   ]
  },
  {
   "cell_type": "markdown",
   "metadata": {},
   "source": [
    "P-value = 6.39 x 10<sup>-32</sup>, so we can reject the null hypothesis and conclude that there is a significant difference between rural and urban counties and their respective rates of uninsured."
   ]
  },
  {
   "cell_type": "markdown",
   "metadata": {},
   "source": [
    "Looking at the visualization..."
   ]
  },
  {
   "cell_type": "code",
   "execution_count": 46,
   "metadata": {},
   "outputs": [],
   "source": [
    "x = ['Urban', 'Rural']\n",
    "y = [urban.mean(), rural.mean()]"
   ]
  },
  {
   "cell_type": "code",
   "execution_count": 48,
   "metadata": {},
   "outputs": [
    {
     "data": {
      "image/png": "[encoded data removed]",
      "text/plain": [
       "<Figure size 576x576 with 1 Axes>"
      ]
     },
     "metadata": {
      "needs_background": "light"
     },
     "output_type": "display_data"
    }
   ],
   "source": [
    "plt.figure(figsize=(8,8))\n",
    "plt.bar(x, y, color ='tan')\n",
    "plt.title('Mean Percent Uninsured by County Type')\n",
    "plt.ylabel('Percent Uninsured')\n",
    "plt.show()"
   ]
  },
  {
   "cell_type": "markdown",
   "metadata": {},
   "source": [
    "### Stat Test 4: Two Means T-Test \n",
    "#### Do rural and urban counties have different median household incomes?"
   ]
  },
  {
   "cell_type": "markdown",
   "metadata": {},
   "source": [
    "Define median household income."
   ]
  },
  {
   "cell_type": "code",
   "execution_count": 49,
   "metadata": {},
   "outputs": [],
   "source": [
    "rural = df_rural.Median_Household_Income"
   ]
  },
  {
   "cell_type": "code",
   "execution_count": 50,
   "metadata": {},
   "outputs": [],
   "source": [
    "urban = df_urban.Median_Household_Income"
   ]
  },
  {
   "cell_type": "code",
   "execution_count": 51,
   "metadata": {},
   "outputs": [
    {
     "data": {
      "text/plain": [
       "Ttest_indResult(statistic=-19.708604869463954, pvalue=1.0763289819633104e-80)"
      ]
     },
     "execution_count": 51,
     "metadata": {},
     "output_type": "execute_result"
    }
   ],
   "source": [
    "scipy.stats.ttest_ind(rural, urban)"
   ]
  },
  {
   "cell_type": "markdown",
   "metadata": {},
   "source": [
    "There is more than a \\$10,000 difference between the median household income for urban and rural counties."
   ]
  },
  {
   "cell_type": "code",
   "execution_count": 52,
   "metadata": {},
   "outputs": [
    {
     "data": {
      "text/plain": [
       "44728.4074605452"
      ]
     },
     "execution_count": 52,
     "metadata": {},
     "output_type": "execute_result"
    }
   ],
   "source": [
    "rural.mean()"
   ]
  },
  {
   "cell_type": "code",
   "execution_count": 53,
   "metadata": {},
   "outputs": [
    {
     "data": {
      "text/plain": [
       "56133.580708661415"
      ]
     },
     "execution_count": 53,
     "metadata": {},
     "output_type": "execute_result"
    }
   ],
   "source": [
    "urban.mean()"
   ]
  },
  {
   "cell_type": "markdown",
   "metadata": {},
   "source": [
    "P-value = 1.07 x 10<sup>-80</sup>, so we can reject the null hypothesis and conclude that there is a significant difference between rural and urban counties and their median household income."
   ]
  },
  {
   "cell_type": "markdown",
   "metadata": {},
   "source": [
    "Looking at the visualization..."
   ]
  },
  {
   "cell_type": "code",
   "execution_count": 54,
   "metadata": {},
   "outputs": [],
   "source": [
    "x = ['Urban', 'Rural']\n",
    "y = [df_urban.Median_Household_Income.mean(), df_rural.Median_Household_Income.mean()]"
   ]
  },
  {
   "cell_type": "code",
   "execution_count": 55,
   "metadata": {},
   "outputs": [
    {
     "data": {
      "image/png": "[encoded data removed]",
      "text/plain": [
       "<Figure size 576x576 with 1 Axes>"
      ]
     },
     "metadata": {
      "needs_background": "light"
     },
     "output_type": "display_data"
    }
   ],
   "source": [
    "plt.figure(figsize=(8,8))\n",
    "plt.bar(x, y, color ='tan')\n",
    "plt.title('Mean Median Household Income by County Type')\n",
    "plt.ylabel('Mean Income')\n",
    "\n",
    "plt.show()"
   ]
  },
  {
   "cell_type": "markdown",
   "metadata": {},
   "source": [
    "## Starting to Model"
   ]
  },
  {
   "cell_type": "markdown",
   "metadata": {},
   "source": [
    "Let's define our target variable and then drop it from the dataframe."
   ]
  },
  {
   "cell_type": "code",
   "execution_count": 56,
   "metadata": {
    "scrolled": true
   },
   "outputs": [],
   "source": [
    "target = df.Percent_Uninsured"
   ]
  },
  {
   "cell_type": "code",
   "execution_count": 57,
   "metadata": {},
   "outputs": [],
   "source": [
    "df = df.drop(columns=['Uninsured', 'Percent_Uninsured']) # Remove our target variables."
   ]
  },
  {
   "cell_type": "markdown",
   "metadata": {},
   "source": [
    "I'm splitting our continuous and categorical variables so that I can scale just the continuous ones later."
   ]
  },
  {
   "cell_type": "code",
   "execution_count": 58,
   "metadata": {},
   "outputs": [],
   "source": [
    "continuous_variables = ['No_Exercise', 'Few_Fruit_Veg', 'Obesity', 'High_Blood_Pres', 'Smoker', 'Diabetes', \n",
    "                        'Elderly_Medicare', 'Prim_Care_Phys_Rate', 'Dentist_Rate', 'POP_COU', 'POPPCT_URBAN',\n",
    "                        'AREA_URBAN', 'AREAPCT_URBAN', 'POP_RURAL', 'AREA_RURAL', 'CHC_x_POPPCT_URBAN', \n",
    "                        'HPSA_x_POPPCT_URBAN', 'Median_Household_Income', 'povertypercent', 'medianagemale', \n",
    "                        'percentmarried', 'no_hs_24', 'hs_24', 'college_24', 'hs_25', 'college_25', 'pctemployed',\n",
    "                        'pctunemployed', 'pctprivatecoverage', 'pctempprivcoverage', 'pctpubliccoverage', \n",
    "                        'pctpubliccoveragealone', 'pctwhite', 'pctblack', 'pctasian', 'pctotherrace', \n",
    "                        'pctmarriedhouseholds']\n",
    "categorical_variables = ['Community_Health_Center_Ind', 'HPSA_Ind']\n",
    "\n",
    "df_cont = df[continuous_variables]\n",
    "df_cate = df[categorical_variables]"
   ]
  },
  {
   "cell_type": "code",
   "execution_count": 59,
   "metadata": {},
   "outputs": [],
   "source": [
    "df_features = pd.concat([df_cont, df_cate], axis=1)"
   ]
  },
  {
   "cell_type": "markdown",
   "metadata": {},
   "source": [
    "### Train Test Split"
   ]
  },
  {
   "cell_type": "code",
   "execution_count": 60,
   "metadata": {},
   "outputs": [],
   "source": [
    "X_train, X_test, y_train, y_test = train_test_split(df_features, target, random_state=9)"
   ]
  },
  {
   "cell_type": "code",
   "execution_count": 61,
   "metadata": {},
   "outputs": [
    {
     "name": "stdout",
     "output_type": "stream",
     "text": [
      "X_train Shape: (1949, 39)\n",
      "X_test Shape:  (650, 39)\n",
      "y_train Shape: (1949,)\n",
      "y_test Shape:  (650,)\n"
     ]
    }
   ],
   "source": [
    "print(\"X_train Shape: \" + str(X_train.shape))\n",
    "print(\"X_test Shape:  \" + str(X_test.shape))\n",
    "print(\"y_train Shape: \" + str(y_train.shape))\n",
    "print(\"y_test Shape:  \" + str(y_test.shape))"
   ]
  },
  {
   "cell_type": "markdown",
   "metadata": {},
   "source": [
    "### Dummy Baseline"
   ]
  },
  {
   "cell_type": "markdown",
   "metadata": {},
   "source": [
    "This dummy baseline model will predict the mean uninsured rate for every county. Our model should be able to beat it if our features are able to explain more of the variance in the data than just the mean."
   ]
  },
  {
   "cell_type": "code",
   "execution_count": 62,
   "metadata": {},
   "outputs": [
    {
     "name": "stdout",
     "output_type": "stream",
     "text": [
      "Dummy RMSE: 20.96888770911173\n",
      "R^2 Score:  0.0\n"
     ]
    }
   ],
   "source": [
    "dummy_regr = DummyRegressor(strategy=\"mean\")\n",
    "dummy_regr.fit(X_train, y_train)\n",
    "\n",
    "y_train_pred = dummy_regr.predict(X_train)\n",
    "dummy_rmse = np.sqrt(metrics.mean_squared_error(y_train, y_train_pred))\n",
    "\n",
    "print('Dummy RMSE:' , dummy_rmse)\n",
    "print('R^2 Score: ' , dummy_regr.score(X_train, y_train))"
   ]
  },
  {
   "cell_type": "markdown",
   "metadata": {},
   "source": [
    "### Baseline Model - No Transformations"
   ]
  },
  {
   "cell_type": "code",
   "execution_count": 63,
   "metadata": {},
   "outputs": [
    {
     "name": "stdout",
     "output_type": "stream",
     "text": [
      "Training RMSE: 16.370039894265265\n",
      "R^2 Score: 0.3905351160066315\n"
     ]
    }
   ],
   "source": [
    "# Instantiate a linear regression object.\n",
    "model = linear_model.LinearRegression()\n",
    "\n",
    "# Fit the linear regression to the data.\n",
    "model = model.fit(X_train, y_train)\n",
    "\n",
    "# Predict on our X_train data.\n",
    "y_train_pred = model.predict(X_train)\n",
    "train_rmse = np.sqrt(metrics.mean_squared_error(y_train, y_train_pred))\n",
    "\n",
    "print('Training RMSE:' , train_rmse)\n",
    "print (\"R^2 Score:\", model.score(X_train, y_train))"
   ]
  },
  {
   "cell_type": "markdown",
   "metadata": {},
   "source": [
    "Here are all of our untransformed features and their coefficients. Let's try scaling our continuous variables next."
   ]
  },
  {
   "cell_type": "code",
   "execution_count": 64,
   "metadata": {},
   "outputs": [
    {
     "data": {
      "text/plain": [
       "(('No_Exercise', -0.13922376961822422),\n",
       " ('Few_Fruit_Veg', -0.076092135540925),\n",
       " ('Obesity', 0.131642080989579),\n",
       " ('High_Blood_Pres', -0.5850351799610971),\n",
       " ('Smoker', 0.33193040082524067),\n",
       " ('Diabetes', -0.03350060633771633),\n",
       " ('Elderly_Medicare', 0.0003948935954233043),\n",
       " ('Prim_Care_Phys_Rate', 0.04468326811322583),\n",
       " ('Dentist_Rate', 0.022233972399334872),\n",
       " ('POP_COU', -5.3053247644044314e-06),\n",
       " ('POPPCT_URBAN', -0.24398507230861707),\n",
       " ('AREA_URBAN', 6.797564414625148e-09),\n",
       " ('AREAPCT_URBAN', -0.10382043742758777),\n",
       " ('POP_RURAL', -0.00039243260384667493),\n",
       " ('AREA_RURAL', -6.578437606258139e-11),\n",
       " ('CHC_x_POPPCT_URBAN', 0.09220449128403178),\n",
       " ('HPSA_x_POPPCT_URBAN', -0.04489130473130484),\n",
       " ('Median_Household_Income', -0.00015515371827052652),\n",
       " ('povertypercent', 0.145567272271349),\n",
       " ('medianagemale', 0.17472617378764055),\n",
       " ('percentmarried', -0.07020806493189967),\n",
       " ('no_hs_24', 0.006626052762510628),\n",
       " ('hs_24', 0.025818927749259465),\n",
       " ('college_24', -0.13160217602793947),\n",
       " ('hs_25', 0.04739940514052673),\n",
       " ('college_25', 0.2730945184631993),\n",
       " ('pctemployed', -0.09196161362552334),\n",
       " ('pctunemployed', -0.20700146968134223),\n",
       " ('pctprivatecoverage', 0.037757923167902795),\n",
       " ('pctempprivcoverage', -0.1253958782569178),\n",
       " ('pctpubliccoverage', -0.32590496407142094),\n",
       " ('pctpubliccoveragealone', 0.3338123545422578),\n",
       " ('pctwhite', 0.017648671526027015),\n",
       " ('pctblack', 0.028738083489602974),\n",
       " ('pctasian', 0.18841053655574203),\n",
       " ('pctotherrace', 0.013839294252716803),\n",
       " ('pctmarriedhouseholds', 0.09437228464713104),\n",
       " ('Community_Health_Center_Ind', -10.44075377842683),\n",
       " ('HPSA_Ind', 4.953361718812637))"
      ]
     },
     "execution_count": 64,
     "metadata": {},
     "output_type": "execute_result"
    }
   ],
   "source": [
    "tuple(zip(df_features.columns, model.coef_))"
   ]
  },
  {
   "cell_type": "markdown",
   "metadata": {},
   "source": [
    "The residuals look pretty good. They seem equally spread above and below 0. There does seem to be a slight non-linearity but I hesistate to use higher degree polynomial features to keep my model's coefficients easily understandable."
   ]
  },
  {
   "cell_type": "code",
   "execution_count": 65,
   "metadata": {},
   "outputs": [
    {
     "data": {
      "text/plain": [
       "<matplotlib.axes._subplots.AxesSubplot at 0x7fec4f7ef450>"
      ]
     },
     "execution_count": 65,
     "metadata": {},
     "output_type": "execute_result"
    },
    {
     "data": {
      "image/png": "[encoded data removed]",
      "text/plain": [
       "<Figure size 432x288 with 1 Axes>"
      ]
     },
     "metadata": {
      "needs_background": "light"
     },
     "output_type": "display_data"
    }
   ],
   "source": [
    "sns.residplot(y_train, y_train_pred,lowess=True, color=\"tan\")"
   ]
  },
  {
   "cell_type": "markdown",
   "metadata": {},
   "source": [
    "### Model - Scaling Continuous Variables"
   ]
  },
  {
   "cell_type": "code",
   "execution_count": 66,
   "metadata": {},
   "outputs": [
    {
     "data": {
      "text/html": [
       "<div>\n",
       "<style scoped>\n",
       "    .dataframe tbody tr th:only-of-type {\n",
       "        vertical-align: middle;\n",
       "    }\n",
       "\n",
       "    .dataframe tbody tr th {\n",
       "        vertical-align: top;\n",
       "    }\n",
       "\n",
       "    .dataframe thead th {\n",
       "        text-align: right;\n",
       "    }\n",
       "</style>\n",
       "<table border=\"1\" class=\"dataframe\">\n",
       "  <thead>\n",
       "    <tr style=\"text-align: right;\">\n",
       "      <th></th>\n",
       "      <th>No_Exercise</th>\n",
       "      <th>Few_Fruit_Veg</th>\n",
       "      <th>Obesity</th>\n",
       "      <th>High_Blood_Pres</th>\n",
       "      <th>Smoker</th>\n",
       "      <th>Diabetes</th>\n",
       "      <th>Elderly_Medicare</th>\n",
       "      <th>Prim_Care_Phys_Rate</th>\n",
       "      <th>Dentist_Rate</th>\n",
       "      <th>POP_COU</th>\n",
       "      <th>POPPCT_URBAN</th>\n",
       "      <th>AREA_URBAN</th>\n",
       "      <th>AREAPCT_URBAN</th>\n",
       "      <th>POP_RURAL</th>\n",
       "      <th>AREA_RURAL</th>\n",
       "      <th>CHC_x_POPPCT_URBAN</th>\n",
       "      <th>HPSA_x_POPPCT_URBAN</th>\n",
       "      <th>Median_Household_Income</th>\n",
       "      <th>povertypercent</th>\n",
       "      <th>medianagemale</th>\n",
       "      <th>percentmarried</th>\n",
       "      <th>no_hs_24</th>\n",
       "      <th>hs_24</th>\n",
       "      <th>college_24</th>\n",
       "      <th>hs_25</th>\n",
       "      <th>college_25</th>\n",
       "      <th>pctemployed</th>\n",
       "      <th>pctunemployed</th>\n",
       "      <th>pctprivatecoverage</th>\n",
       "      <th>pctempprivcoverage</th>\n",
       "      <th>pctpubliccoverage</th>\n",
       "      <th>pctpubliccoveragealone</th>\n",
       "      <th>pctwhite</th>\n",
       "      <th>pctblack</th>\n",
       "      <th>pctasian</th>\n",
       "      <th>pctotherrace</th>\n",
       "      <th>pctmarriedhouseholds</th>\n",
       "    </tr>\n",
       "  </thead>\n",
       "  <tbody>\n",
       "    <tr>\n",
       "      <th>0</th>\n",
       "      <td>-0.140728</td>\n",
       "      <td>-0.833895</td>\n",
       "      <td>-0.365908</td>\n",
       "      <td>0.217572</td>\n",
       "      <td>0.218053</td>\n",
       "      <td>-0.378667</td>\n",
       "      <td>0.919808</td>\n",
       "      <td>0.288223</td>\n",
       "      <td>0.010932</td>\n",
       "      <td>0.213431</td>\n",
       "      <td>0.457721</td>\n",
       "      <td>0.760082</td>\n",
       "      <td>-0.065738</td>\n",
       "      <td>3.362688</td>\n",
       "      <td>0.179537</td>\n",
       "      <td>-0.751603</td>\n",
       "      <td>0.744785</td>\n",
       "      <td>0.262894</td>\n",
       "      <td>-0.609027</td>\n",
       "      <td>0.244370</td>\n",
       "      <td>0.295230</td>\n",
       "      <td>-0.059028</td>\n",
       "      <td>-0.173819</td>\n",
       "      <td>0.537401</td>\n",
       "      <td>-0.875305</td>\n",
       "      <td>1.135858</td>\n",
       "      <td>0.096162</td>\n",
       "      <td>-0.104687</td>\n",
       "      <td>0.298370</td>\n",
       "      <td>0.143838</td>\n",
       "      <td>-0.337689</td>\n",
       "      <td>-0.285384</td>\n",
       "      <td>0.165771</td>\n",
       "      <td>0.026891</td>\n",
       "      <td>-0.217984</td>\n",
       "      <td>-0.281841</td>\n",
       "      <td>0.425974</td>\n",
       "    </tr>\n",
       "    <tr>\n",
       "      <th>1</th>\n",
       "      <td>0.319560</td>\n",
       "      <td>0.132581</td>\n",
       "      <td>0.099834</td>\n",
       "      <td>0.471333</td>\n",
       "      <td>-1.200359</td>\n",
       "      <td>-0.602950</td>\n",
       "      <td>-0.264460</td>\n",
       "      <td>-0.188297</td>\n",
       "      <td>-0.274300</td>\n",
       "      <td>-0.243278</td>\n",
       "      <td>-0.356155</td>\n",
       "      <td>-0.346360</td>\n",
       "      <td>-0.395972</td>\n",
       "      <td>-0.084651</td>\n",
       "      <td>-0.049164</td>\n",
       "      <td>-0.751603</td>\n",
       "      <td>-0.023094</td>\n",
       "      <td>-1.116039</td>\n",
       "      <td>1.316746</td>\n",
       "      <td>-0.588177</td>\n",
       "      <td>-1.499886</td>\n",
       "      <td>0.859029</td>\n",
       "      <td>0.922702</td>\n",
       "      <td>-0.973919</td>\n",
       "      <td>-0.062080</td>\n",
       "      <td>-1.078077</td>\n",
       "      <td>-1.780871</td>\n",
       "      <td>2.824671</td>\n",
       "      <td>-1.106610</td>\n",
       "      <td>-1.164279</td>\n",
       "      <td>1.313023</td>\n",
       "      <td>1.184001</td>\n",
       "      <td>-2.236444</td>\n",
       "      <td>2.570227</td>\n",
       "      <td>-0.125638</td>\n",
       "      <td>0.441741</td>\n",
       "      <td>-1.210808</td>\n",
       "    </tr>\n",
       "    <tr>\n",
       "      <th>2</th>\n",
       "      <td>0.319560</td>\n",
       "      <td>1.756660</td>\n",
       "      <td>0.401999</td>\n",
       "      <td>0.471333</td>\n",
       "      <td>0.058310</td>\n",
       "      <td>1.826783</td>\n",
       "      <td>-0.319429</td>\n",
       "      <td>-0.278206</td>\n",
       "      <td>-0.550331</td>\n",
       "      <td>-0.256678</td>\n",
       "      <td>-0.374022</td>\n",
       "      <td>-0.340107</td>\n",
       "      <td>-0.373101</td>\n",
       "      <td>-0.258649</td>\n",
       "      <td>-0.148453</td>\n",
       "      <td>-0.751603</td>\n",
       "      <td>-0.992650</td>\n",
       "      <td>-0.660329</td>\n",
       "      <td>0.183025</td>\n",
       "      <td>-0.355838</td>\n",
       "      <td>-0.405303</td>\n",
       "      <td>0.883842</td>\n",
       "      <td>-0.206715</td>\n",
       "      <td>-1.107271</td>\n",
       "      <td>1.022219</td>\n",
       "      <td>-1.340748</td>\n",
       "      <td>-1.090607</td>\n",
       "      <td>0.127341</td>\n",
       "      <td>0.034347</td>\n",
       "      <td>0.271459</td>\n",
       "      <td>0.391695</td>\n",
       "      <td>0.563594</td>\n",
       "      <td>-0.435396</td>\n",
       "      <td>0.836954</td>\n",
       "      <td>-0.443601</td>\n",
       "      <td>-0.551631</td>\n",
       "      <td>0.948270</td>\n",
       "    </tr>\n",
       "    <tr>\n",
       "      <th>3</th>\n",
       "      <td>0.976732</td>\n",
       "      <td>-1.232442</td>\n",
       "      <td>-0.226185</td>\n",
       "      <td>0.471333</td>\n",
       "      <td>0.012486</td>\n",
       "      <td>0.069899</td>\n",
       "      <td>-0.158502</td>\n",
       "      <td>-0.853626</td>\n",
       "      <td>-0.909172</td>\n",
       "      <td>-0.155171</td>\n",
       "      <td>-1.063152</td>\n",
       "      <td>-0.374597</td>\n",
       "      <td>-0.402108</td>\n",
       "      <td>1.858757</td>\n",
       "      <td>-0.138899</td>\n",
       "      <td>-0.425729</td>\n",
       "      <td>-0.992650</td>\n",
       "      <td>-0.091290</td>\n",
       "      <td>0.089842</td>\n",
       "      <td>-0.007330</td>\n",
       "      <td>1.054141</td>\n",
       "      <td>0.151877</td>\n",
       "      <td>-0.184784</td>\n",
       "      <td>-0.707216</td>\n",
       "      <td>-0.219018</td>\n",
       "      <td>-0.871694</td>\n",
       "      <td>-0.703091</td>\n",
       "      <td>-0.046680</td>\n",
       "      <td>0.166359</td>\n",
       "      <td>0.367175</td>\n",
       "      <td>-0.056172</td>\n",
       "      <td>-0.040486</td>\n",
       "      <td>0.698655</td>\n",
       "      <td>-0.525376</td>\n",
       "      <td>-0.423689</td>\n",
       "      <td>-0.280874</td>\n",
       "      <td>1.271365</td>\n",
       "    </tr>\n",
       "    <tr>\n",
       "      <th>4</th>\n",
       "      <td>0.319560</td>\n",
       "      <td>0.132581</td>\n",
       "      <td>0.401999</td>\n",
       "      <td>0.471333</td>\n",
       "      <td>0.058310</td>\n",
       "      <td>0.537740</td>\n",
       "      <td>-0.378008</td>\n",
       "      <td>0.002761</td>\n",
       "      <td>-0.573334</td>\n",
       "      <td>-0.292083</td>\n",
       "      <td>0.167712</td>\n",
       "      <td>-0.366860</td>\n",
       "      <td>-0.394298</td>\n",
       "      <td>-0.851775</td>\n",
       "      <td>-0.147460</td>\n",
       "      <td>-0.751603</td>\n",
       "      <td>-0.992650</td>\n",
       "      <td>-1.197866</td>\n",
       "      <td>2.823197</td>\n",
       "      <td>-0.336477</td>\n",
       "      <td>-3.338785</td>\n",
       "      <td>-1.237616</td>\n",
       "      <td>3.346013</td>\n",
       "      <td>-1.373975</td>\n",
       "      <td>-0.233285</td>\n",
       "      <td>-1.265699</td>\n",
       "      <td>-1.151157</td>\n",
       "      <td>2.940685</td>\n",
       "      <td>-1.540362</td>\n",
       "      <td>-0.940942</td>\n",
       "      <td>1.018710</td>\n",
       "      <td>1.575836</td>\n",
       "      <td>-3.510495</td>\n",
       "      <td>4.208577</td>\n",
       "      <td>-0.399361</td>\n",
       "      <td>-0.560640</td>\n",
       "      <td>-2.974156</td>\n",
       "    </tr>\n",
       "  </tbody>\n",
       "</table>\n",
       "</div>"
      ],
      "text/plain": [
       "   No_Exercise  Few_Fruit_Veg   Obesity  High_Blood_Pres    Smoker  Diabetes  \\\n",
       "0    -0.140728      -0.833895 -0.365908         0.217572  0.218053 -0.378667   \n",
       "1     0.319560       0.132581  0.099834         0.471333 -1.200359 -0.602950   \n",
       "2     0.319560       1.756660  0.401999         0.471333  0.058310  1.826783   \n",
       "3     0.976732      -1.232442 -0.226185         0.471333  0.012486  0.069899   \n",
       "4     0.319560       0.132581  0.401999         0.471333  0.058310  0.537740   \n",
       "\n",
       "   Elderly_Medicare  Prim_Care_Phys_Rate  Dentist_Rate   POP_COU  \\\n",
       "0          0.919808             0.288223      0.010932  0.213431   \n",
       "1         -0.264460            -0.188297     -0.274300 -0.243278   \n",
       "2         -0.319429            -0.278206     -0.550331 -0.256678   \n",
       "3         -0.158502            -0.853626     -0.909172 -0.155171   \n",
       "4         -0.378008             0.002761     -0.573334 -0.292083   \n",
       "\n",
       "   POPPCT_URBAN  AREA_URBAN  AREAPCT_URBAN  POP_RURAL  AREA_RURAL  \\\n",
       "0      0.457721    0.760082      -0.065738   3.362688    0.179537   \n",
       "1     -0.356155   -0.346360      -0.395972  -0.084651   -0.049164   \n",
       "2     -0.374022   -0.340107      -0.373101  -0.258649   -0.148453   \n",
       "3     -1.063152   -0.374597      -0.402108   1.858757   -0.138899   \n",
       "4      0.167712   -0.366860      -0.394298  -0.851775   -0.147460   \n",
       "\n",
       "   CHC_x_POPPCT_URBAN  HPSA_x_POPPCT_URBAN  Median_Household_Income  \\\n",
       "0           -0.751603             0.744785                 0.262894   \n",
       "1           -0.751603            -0.023094                -1.116039   \n",
       "2           -0.751603            -0.992650                -0.660329   \n",
       "3           -0.425729            -0.992650                -0.091290   \n",
       "4           -0.751603            -0.992650                -1.197866   \n",
       "\n",
       "   povertypercent  medianagemale  percentmarried  no_hs_24     hs_24  \\\n",
       "0       -0.609027       0.244370        0.295230 -0.059028 -0.173819   \n",
       "1        1.316746      -0.588177       -1.499886  0.859029  0.922702   \n",
       "2        0.183025      -0.355838       -0.405303  0.883842 -0.206715   \n",
       "3        0.089842      -0.007330        1.054141  0.151877 -0.184784   \n",
       "4        2.823197      -0.336477       -3.338785 -1.237616  3.346013   \n",
       "\n",
       "   college_24     hs_25  college_25  pctemployed  pctunemployed  \\\n",
       "0    0.537401 -0.875305    1.135858     0.096162      -0.104687   \n",
       "1   -0.973919 -0.062080   -1.078077    -1.780871       2.824671   \n",
       "2   -1.107271  1.022219   -1.340748    -1.090607       0.127341   \n",
       "3   -0.707216 -0.219018   -0.871694    -0.703091      -0.046680   \n",
       "4   -1.373975 -0.233285   -1.265699    -1.151157       2.940685   \n",
       "\n",
       "   pctprivatecoverage  pctempprivcoverage  pctpubliccoverage  \\\n",
       "0            0.298370            0.143838          -0.337689   \n",
       "1           -1.106610           -1.164279           1.313023   \n",
       "2            0.034347            0.271459           0.391695   \n",
       "3            0.166359            0.367175          -0.056172   \n",
       "4           -1.540362           -0.940942           1.018710   \n",
       "\n",
       "   pctpubliccoveragealone  pctwhite  pctblack  pctasian  pctotherrace  \\\n",
       "0               -0.285384  0.165771  0.026891 -0.217984     -0.281841   \n",
       "1                1.184001 -2.236444  2.570227 -0.125638      0.441741   \n",
       "2                0.563594 -0.435396  0.836954 -0.443601     -0.551631   \n",
       "3               -0.040486  0.698655 -0.525376 -0.423689     -0.280874   \n",
       "4                1.575836 -3.510495  4.208577 -0.399361     -0.560640   \n",
       "\n",
       "   pctmarriedhouseholds  \n",
       "0              0.425974  \n",
       "1             -1.210808  \n",
       "2              0.948270  \n",
       "3              1.271365  \n",
       "4             -2.974156  "
      ]
     },
     "execution_count": 66,
     "metadata": {},
     "output_type": "execute_result"
    }
   ],
   "source": [
    "#Scaling our continuous variables:\n",
    "scaler = StandardScaler()\n",
    "scaled_df_cont = pd.DataFrame(scaler.fit_transform(df_cont), columns = continuous_variables)\n",
    "scaled_df_cont.head()"
   ]
  },
  {
   "cell_type": "code",
   "execution_count": 67,
   "metadata": {},
   "outputs": [],
   "source": [
    "df_total = pd.concat([scaled_df_cont, df_cate], axis=1)"
   ]
  },
  {
   "cell_type": "code",
   "execution_count": 68,
   "metadata": {},
   "outputs": [],
   "source": [
    "df_total = df_total.fillna(0.0)\n",
    "df_total = df_total.iloc[:2599]"
   ]
  },
  {
   "cell_type": "markdown",
   "metadata": {},
   "source": [
    "### Train Test Split"
   ]
  },
  {
   "cell_type": "code",
   "execution_count": 69,
   "metadata": {},
   "outputs": [],
   "source": [
    "X_train, X_test, y_train, y_test = train_test_split(df_total, target, random_state=7)"
   ]
  },
  {
   "cell_type": "code",
   "execution_count": 70,
   "metadata": {},
   "outputs": [
    {
     "name": "stdout",
     "output_type": "stream",
     "text": [
      "X_train Shape: (1949, 39)\n",
      "X_test Shape:  (650, 39)\n",
      "y_train Shape: (1949,)\n",
      "y_test Shape:  (650,)\n"
     ]
    }
   ],
   "source": [
    "print(\"X_train Shape: \" + str(X_train.shape))\n",
    "print(\"X_test Shape:  \" + str(X_test.shape))\n",
    "print(\"y_train Shape: \" + str(y_train.shape))\n",
    "print(\"y_test Shape:  \" + str(y_test.shape))"
   ]
  },
  {
   "cell_type": "code",
   "execution_count": 71,
   "metadata": {},
   "outputs": [
    {
     "name": "stdout",
     "output_type": "stream",
     "text": [
      "Training RMSE: 16.905852945940143\n",
      "R^2 Score: 0.3739339389923164\n"
     ]
    }
   ],
   "source": [
    "#instantiate a linear regression object\n",
    "model2 = linear_model.LinearRegression()\n",
    "\n",
    "#fit the linear regression to the data\n",
    "model2 = model2.fit(X_train, y_train)\n",
    "\n",
    "y_train_pred = model2.predict(X_train)\n",
    "\n",
    "train_rmse = np.sqrt(metrics.mean_squared_error(y_train, y_train_pred))\n",
    "\n",
    "\n",
    "print('Training RMSE:' , train_rmse)\n",
    "print (\"R^2 Score:\", model2.score(X_train, y_train))"
   ]
  },
  {
   "cell_type": "markdown",
   "metadata": {},
   "source": [
    "This RMSE and R2 are very similiar to the previous un-transformed model, as expected."
   ]
  },
  {
   "cell_type": "markdown",
   "metadata": {},
   "source": [
    "Here are all the features and their coefficients. We will use recursive elimination to narrow this list down to significant ones."
   ]
  },
  {
   "cell_type": "code",
   "execution_count": 72,
   "metadata": {},
   "outputs": [
    {
     "data": {
      "text/plain": [
       "(('No_Exercise', -0.47521182332947964),\n",
       " ('Few_Fruit_Veg', -0.3312324466136487),\n",
       " ('Obesity', 0.4713131345856334),\n",
       " ('High_Blood_Pres', -2.1965456647826525),\n",
       " ('Smoker', 1.975156695625071),\n",
       " ('Diabetes', -0.23127420895117765),\n",
       " ('Elderly_Medicare', 6.329581337510448),\n",
       " ('Prim_Care_Phys_Rate', 3.260209346439927),\n",
       " ('Dentist_Rate', 0.37245647247199315),\n",
       " ('POP_COU', -1.363385482887224),\n",
       " ('POPPCT_URBAN', -6.208141717803918),\n",
       " ('AREA_URBAN', 1.1059051672278069),\n",
       " ('AREAPCT_URBAN', -1.9218166211196706),\n",
       " ('POP_RURAL', -6.170160622686675),\n",
       " ('AREA_RURAL', -0.3712380227106195),\n",
       " ('CHC_x_POPPCT_URBAN', -2.013712734670523),\n",
       " ('HPSA_x_POPPCT_URBAN', 0.6528580021609944),\n",
       " ('Median_Household_Income', -2.5079746583928917),\n",
       " ('povertypercent', 0.48853944980204644),\n",
       " ('medianagemale', 0.41932441712461704),\n",
       " ('percentmarried', -1.2513412558958203),\n",
       " ('no_hs_24', 0.3640091696682233),\n",
       " ('hs_24', 0.6823184636044524),\n",
       " ('college_24', -0.29060754264582217),\n",
       " ('hs_25', -0.45722482594649294),\n",
       " ('college_25', 0.7779335195671018),\n",
       " ('pctemployed', -0.4816317428966683),\n",
       " ('pctunemployed', -0.42617420596130445),\n",
       " ('pctprivatecoverage', 0.041115549986786196),\n",
       " ('pctempprivcoverage', -0.7624936757529229),\n",
       " ('pctpubliccoverage', -1.3854512382209403),\n",
       " ('pctpubliccoveragealone', 0.8092641728298726),\n",
       " ('pctwhite', -0.3951503015401599),\n",
       " ('pctblack', -0.2977294695263981),\n",
       " ('pctasian', 0.19129242037530317),\n",
       " ('pctotherrace', -0.2071522923594897),\n",
       " ('pctmarriedhouseholds', 0.7434532086862321),\n",
       " ('Community_Health_Center_Ind', -0.3078026138123013),\n",
       " ('HPSA_Ind', 0.3333799296591407))"
      ]
     },
     "execution_count": 72,
     "metadata": {},
     "output_type": "execute_result"
    }
   ],
   "source": [
    "tuple(zip(df_features.columns, model2.coef_))"
   ]
  },
  {
   "cell_type": "markdown",
   "metadata": {},
   "source": [
    "## Recursive Feature Elimination"
   ]
  },
  {
   "cell_type": "code",
   "execution_count": 73,
   "metadata": {},
   "outputs": [],
   "source": [
    "ols = linear_model.LinearRegression()"
   ]
  },
  {
   "cell_type": "code",
   "execution_count": 74,
   "metadata": {},
   "outputs": [
    {
     "data": {
      "text/plain": [
       "RFECV(cv=None,\n",
       "      estimator=LinearRegression(copy_X=True, fit_intercept=True, n_jobs=None,\n",
       "                                 normalize=False),\n",
       "      min_features_to_select=1, n_jobs=None, scoring='neg_mean_squared_error',\n",
       "      step=1, verbose=0)"
      ]
     },
     "execution_count": 74,
     "metadata": {},
     "output_type": "execute_result"
    }
   ],
   "source": [
    "# Instantiate a recursive eliminator object\n",
    "selector = RFECV(estimator=ols, step=1, scoring='neg_mean_squared_error')\n",
    "\n",
    "# Fit recursive feature eliminator \n",
    "selector.fit(X_train, y_train)\n",
    "\n"
   ]
  },
  {
   "cell_type": "code",
   "execution_count": 75,
   "metadata": {},
   "outputs": [],
   "source": [
    "selected_rfe = X_train.columns[selector.support_]\n",
    "removed_rfe = X_train.columns[~selector.support_]\n"
   ]
  },
  {
   "cell_type": "code",
   "execution_count": 76,
   "metadata": {},
   "outputs": [
    {
     "data": {
      "text/plain": [
       "30"
      ]
     },
     "execution_count": 76,
     "metadata": {},
     "output_type": "execute_result"
    }
   ],
   "source": [
    "len(list(removed_rfe)) # We eliminated 30 features from our model"
   ]
  },
  {
   "cell_type": "code",
   "execution_count": 77,
   "metadata": {},
   "outputs": [
    {
     "data": {
      "text/plain": [
       "['High_Blood_Pres',\n",
       " 'Smoker',\n",
       " 'Elderly_Medicare',\n",
       " 'Prim_Care_Phys_Rate',\n",
       " 'POPPCT_URBAN',\n",
       " 'AREAPCT_URBAN',\n",
       " 'POP_RURAL',\n",
       " 'CHC_x_POPPCT_URBAN',\n",
       " 'Median_Household_Income']"
      ]
     },
     "execution_count": 77,
     "metadata": {},
     "output_type": "execute_result"
    }
   ],
   "source": [
    "list(selected_rfe) # Here are the features we are keeping"
   ]
  },
  {
   "cell_type": "markdown",
   "metadata": {},
   "source": [
    "Our final model with only significant features according to recursive elimination."
   ]
  },
  {
   "cell_type": "code",
   "execution_count": 78,
   "metadata": {},
   "outputs": [
    {
     "name": "stdout",
     "output_type": "stream",
     "text": [
      "Training Root Mean Squared Error: 17.01058900868868\n",
      "Testing Root Mean Squared Error: 15.686747553971113\n",
      "R^2 Score: 0.3661526325855897\n"
     ]
    }
   ],
   "source": [
    "#instantiate a linear regression object\n",
    "lm_rfe = linear_model.LinearRegression()\n",
    "\n",
    "#fit the linear regression to the data\n",
    "lm_rfe = lm_rfe.fit(X_train[selected_rfe], y_train)\n",
    "\n",
    "y_rfe = lm_rfe.predict(X_train[selected_rfe])\n",
    "trainRFE_rmse = np.sqrt(metrics.mean_squared_error(y_train, y_rfe))\n",
    "print('Training Root Mean Squared Error:' , trainRFE_rmse)\n",
    "\n",
    "y_pred_rfe = lm_rfe.predict(X_test[selected_rfe])\n",
    "testRFE_rmse = np.sqrt(metrics.mean_squared_error(y_test, y_pred_rfe))\n",
    "print('Testing Root Mean Squared Error:' , testRFE_rmse)\n",
    "\n",
    "print (\"R^2 Score:\", lm_rfe.score(X_train[selected_rfe], y_train))"
   ]
  },
  {
   "cell_type": "markdown",
   "metadata": {},
   "source": [
    "## Examine Coefficients"
   ]
  },
  {
   "cell_type": "code",
   "execution_count": 79,
   "metadata": {
    "scrolled": false
   },
   "outputs": [
    {
     "data": {
      "text/html": [
       "<div>\n",
       "<style scoped>\n",
       "    .dataframe tbody tr th:only-of-type {\n",
       "        vertical-align: middle;\n",
       "    }\n",
       "\n",
       "    .dataframe tbody tr th {\n",
       "        vertical-align: top;\n",
       "    }\n",
       "\n",
       "    .dataframe thead th {\n",
       "        text-align: right;\n",
       "    }\n",
       "</style>\n",
       "<table border=\"1\" class=\"dataframe\">\n",
       "  <thead>\n",
       "    <tr style=\"text-align: right;\">\n",
       "      <th></th>\n",
       "      <th>0</th>\n",
       "      <th>1</th>\n",
       "    </tr>\n",
       "  </thead>\n",
       "  <tbody>\n",
       "    <tr>\n",
       "      <th>0</th>\n",
       "      <td>High_Blood_Pres</td>\n",
       "      <td>-2.234794</td>\n",
       "    </tr>\n",
       "    <tr>\n",
       "      <th>1</th>\n",
       "      <td>Smoker</td>\n",
       "      <td>1.926092</td>\n",
       "    </tr>\n",
       "    <tr>\n",
       "      <th>2</th>\n",
       "      <td>Elderly_Medicare</td>\n",
       "      <td>6.547118</td>\n",
       "    </tr>\n",
       "    <tr>\n",
       "      <th>3</th>\n",
       "      <td>Prim_Care_Phys_Rate</td>\n",
       "      <td>3.578030</td>\n",
       "    </tr>\n",
       "    <tr>\n",
       "      <th>4</th>\n",
       "      <td>POPPCT_URBAN</td>\n",
       "      <td>-5.628755</td>\n",
       "    </tr>\n",
       "    <tr>\n",
       "      <th>5</th>\n",
       "      <td>AREAPCT_URBAN</td>\n",
       "      <td>-1.927773</td>\n",
       "    </tr>\n",
       "    <tr>\n",
       "      <th>6</th>\n",
       "      <td>POP_RURAL</td>\n",
       "      <td>-5.940180</td>\n",
       "    </tr>\n",
       "    <tr>\n",
       "      <th>7</th>\n",
       "      <td>CHC_x_POPPCT_URBAN</td>\n",
       "      <td>-2.061759</td>\n",
       "    </tr>\n",
       "    <tr>\n",
       "      <th>8</th>\n",
       "      <td>Median_Household_Income</td>\n",
       "      <td>-2.437864</td>\n",
       "    </tr>\n",
       "  </tbody>\n",
       "</table>\n",
       "</div>"
      ],
      "text/plain": [
       "                         0         1\n",
       "0          High_Blood_Pres -2.234794\n",
       "1                   Smoker  1.926092\n",
       "2         Elderly_Medicare  6.547118\n",
       "3      Prim_Care_Phys_Rate  3.578030\n",
       "4             POPPCT_URBAN -5.628755\n",
       "5            AREAPCT_URBAN -1.927773\n",
       "6                POP_RURAL -5.940180\n",
       "7       CHC_x_POPPCT_URBAN -2.061759\n",
       "8  Median_Household_Income -2.437864"
      ]
     },
     "execution_count": 79,
     "metadata": {},
     "output_type": "execute_result"
    }
   ],
   "source": [
    "pd.DataFrame(zip(X_train[selected_rfe], lm_rfe.coef_))"
   ]
  },
  {
   "cell_type": "code",
   "execution_count": 80,
   "metadata": {},
   "outputs": [
    {
     "data": {
      "text/plain": [
       "<matplotlib.axes._subplots.AxesSubplot at 0x7fec4dc44b90>"
      ]
     },
     "execution_count": 80,
     "metadata": {},
     "output_type": "execute_result"
    },
    {
     "data": {
      "image/png": "[encoded data removed]",
      "text/plain": [
       "<Figure size 432x288 with 1 Axes>"
      ]
     },
     "metadata": {
      "needs_background": "light"
     },
     "output_type": "display_data"
    }
   ],
   "source": [
    "sns.residplot(y_train, y_rfe,lowess=True, color=\"tan\")"
   ]
  },
  {
   "cell_type": "markdown",
   "metadata": {},
   "source": [
    "## Insights"
   ]
  },
  {
   "cell_type": "markdown",
   "metadata": {},
   "source": [
    "So now we have a list of our significant features and their coefficients. We can see that the Elderly on Medicare, Smoker, and Primary Care Physician Rate all increase the uninsured rate for every increase in standard deviation from their mean. Conversely, High Blood Pressure, Urban Population and Area, and Median Household Income all decrease the uninsured rate as they increase. "
   ]
  }
 ],
 "metadata": {
  "kernelspec": {
   "display_name": "Python 3",
   "language": "python",
   "name": "python3"
  },
  "language_info": {
   "codemirror_mode": {
    "name": "ipython",
    "version": 3
   },
   "file_extension": ".py",
   "mimetype": "text/x-python",
   "name": "python",
   "nbconvert_exporter": "python",
   "pygments_lexer": "ipython3",
   "version": "3.7.6"
  }
 },
 "nbformat": 4,
 "nbformat_minor": 4
}
